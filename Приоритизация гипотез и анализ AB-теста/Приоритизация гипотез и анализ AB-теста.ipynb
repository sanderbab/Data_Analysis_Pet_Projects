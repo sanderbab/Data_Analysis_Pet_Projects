{
 "cells": [
  {
   "cell_type": "markdown",
   "metadata": {},
   "source": [
    "<div style=\"border-radius: 15px; border: 3px solid indigo; padding: 15px;\">\n",
    "<b>Привет, Александр!</b>\n",
    "\n",
    "Меня зовут Вадим Лепшин, и я буду проверять твой проект. Предлагаю общение на «ты», но если тебе комфортнее на «Вы», обязательно сообщи мне об этом. \n",
    "\n",
    "Моя основная цель — не указать на совершенные тобою ошибки, а поделиться своим опытом и помочь тебе стать аналитиком данных. Тобой проделана большая работа над проектом, давай сделаем его еще лучше. Ниже ты найдешь мои комментарии. Есть несколько правил:<br>\n",
    "- <b>Пожалуйста, не перемещай, не изменяй и не удаляй комментарии.</b>\n",
    "- У комментариев могут быть приписки <b>V2, V3</b> и т.д., которые соответствуют версии проверки. \n",
    "   \n",
    "В тетрадке ты можешь встретить 3 вида моих комментариев:\n",
    "    \n",
    "<div class=\"alert alert-danger\">\n",
    "    <b>❌ Комментарий ревьюера:</b>\n",
    "    \n",
    "Комментарии такого цвета необходимо исправить, без их отработки проект не будет принят.\n",
    "</div>\n",
    "    \n",
    "    \n",
    "<div class=\"alert alert-warning\">\n",
    "    <b>⚠️ Комментарий ревьюера:</b>\n",
    "    \n",
    "На комментарии такого цвета нужно обязательно обратить внимание. Рекомендую учесть их при редактировании проекта и выполнении будущих заданий.\n",
    "</div>\n",
    "    \n",
    "    \n",
    "<div class=\"alert alert-success\">\n",
    "    <b>✅ Комментарий ревьюера:</b>\n",
    "\n",
    "Так отмечены удачные решения и подходы, на которые стоит опираться в будущих проектах.\n",
    "</div>\n",
    "    \n",
    "Предлагаю работать над проектом в диалоге: если ты хочешь ответить на мои комментарии — пиши об этом. Мне будет легче отследить изменения, если ты выделишь свои комментарии вот так:\n",
    "\n",
    "<div class=\"alert alert-info\">\n",
    "<b> Комментарий студента</b>\n",
    "\n",
    "Тут текст.\n",
    "</div>\n",
    "\n",
    "\n",
    "Всё это поможет выполнить повторную проверку твоего проекта оперативнее.\n",
    "</div>"
   ]
  },
  {
   "cell_type": "markdown",
   "metadata": {},
   "source": [
    "<div class=\"alert alert-warning\">\n",
    "    <b>⚠️ Комментарий ревьюера:</b>\n",
    "    \n",
    "Сделай, пожалуйста, заголовок проекта.\n",
    "</div>"
   ]
  },
  {
   "cell_type": "markdown",
   "metadata": {},
   "source": [
    "<div class=\"alert alert-success\">\n",
    "    <b>✅ Комментарий ревьюера V2:</b>\n",
    "\n",
    "Принято!\n",
    "</div>"
   ]
  },
  {
   "cell_type": "markdown",
   "metadata": {},
   "source": [
    "#  Приоритизация гипотез и анализ результатов A/B-теста"
   ]
  },
  {
   "cell_type": "markdown",
   "metadata": {},
   "source": [
    "## Цель "
   ]
  },
  {
   "cell_type": "markdown",
   "metadata": {},
   "source": [
    "Приоритизировать гипотезы, проанализировать результаты A/B-теста."
   ]
  },
  {
   "cell_type": "markdown",
   "metadata": {},
   "source": [
    "## Ход проекта"
   ]
  },
  {
   "cell_type": "markdown",
   "metadata": {},
   "source": [
    "1. Знакомство с данными\n",
    "2. Исследоватеский анализ данных\n",
    "3. Приоритизация гипотез\n",
    "4. Анализ A/B-теста\n",
    "5. Общий вывод"
   ]
  },
  {
   "cell_type": "markdown",
   "metadata": {},
   "source": [
    "## Описание данных"
   ]
  },
  {
   "cell_type": "markdown",
   "metadata": {},
   "source": [
    "Файл `/datasets/hypothesis.csv`. [Скачать датасет](https://code.s3.yandex.net/datasets/hypothesis.csv)\n",
    "\n",
    "-   `Hypothesis` — краткое описание гипотезы;\n",
    "-   `Reach` — охват пользователей по 10-балльной шкале;\n",
    "-   `Impact` — влияние на пользователей по 10-балльной шкале;\n",
    "-   `Confidence` — уверенность в гипотезе по 10-балльной шкале;\n",
    "-   `Efforts` — затраты ресурсов на проверку гипотезы по 10-балльной шкале. Чем больше значение `Efforts`, тем дороже проверка гипотезы.\n",
    "\n",
    "**Данные для второй части**\n",
    "\n",
    "Файл `/datasets/orders.csv`. [Скачать датасет](https://code.s3.yandex.net/datasets/orders.csv)\n",
    "\n",
    "-   `transactionId` — идентификатор заказа;\n",
    "-   `visitorId` — идентификатор пользователя, совершившего заказ;\n",
    "-   `date` — дата, когда был совершён заказ;\n",
    "-   `revenue` — выручка заказа;\n",
    "-   `group` — группа A/B-теста, в которую попал заказ.\n",
    "\n",
    "Файл `/datasets/visitors.csv`. [Скачать датасет](https://code.s3.yandex.net/datasets/visitors.csv)\n",
    "\n",
    "-   `date` — дата;\n",
    "-   `group` — группа A/B-теста;\n",
    "-   `visitors` — количество пользователей в указанную дату в указанной группе A/B-теста\n"
   ]
  },
  {
   "cell_type": "markdown",
   "metadata": {},
   "source": [
    "## Загрузка и обзор данных"
   ]
  },
  {
   "cell_type": "code",
   "execution_count": 285,
   "metadata": {},
   "outputs": [],
   "source": [
    "# импортируем необходимые для работы модули\n",
    "import pandas as pd\n",
    "import numpy as np\n",
    "import matplotlib.pyplot as plt\n",
    "import seaborn as sns\n",
    "from scipy import stats \n",
    "import datetime as dt"
   ]
  },
  {
   "cell_type": "code",
   "execution_count": 286,
   "metadata": {},
   "outputs": [],
   "source": [
    "plt.rcParams[\"figure.figsize\"] = (15,6)\n",
    "plt.rcParams[\"axes.formatter.limits\"] = (-4,7)\n",
    "import warnings\n",
    "warnings.filterwarnings('ignore')\n",
    "sns.set()\n",
    "#plt.rcParams.keys()"
   ]
  },
  {
   "cell_type": "code",
   "execution_count": 287,
   "metadata": {},
   "outputs": [],
   "source": [
    "# загрузим файл с данными в датафрейм hypothesis\n",
    "try:\n",
    "    hypothesis = pd.read_csv('hypothesis.csv')\n",
    "except:\n",
    "    hypothesis = pd.read_csv('/datasets/hypothesis.csv')"
   ]
  },
  {
   "cell_type": "code",
   "execution_count": 288,
   "metadata": {},
   "outputs": [],
   "source": [
    "# загрузим файл с данными в датафрейм orders\n",
    "try:\n",
    "    orders = pd.read_csv('orders.csv')\n",
    "except:\n",
    "    orders = pd.read_csv('/datasets/orders.csv')"
   ]
  },
  {
   "cell_type": "code",
   "execution_count": 289,
   "metadata": {},
   "outputs": [],
   "source": [
    "# загрузим файл с данными в датафрейм visitors\n",
    "try:\n",
    "    visitors = pd.read_csv('visitors.csv')\n",
    "except:\n",
    "    visitors = pd.read_csv('/datasets/visitors.csv')"
   ]
  },
  {
   "cell_type": "code",
   "execution_count": 290,
   "metadata": {
    "scrolled": false
   },
   "outputs": [
    {
     "data": {
      "text/html": [
       "<div>\n",
       "<style scoped>\n",
       "    .dataframe tbody tr th:only-of-type {\n",
       "        vertical-align: middle;\n",
       "    }\n",
       "\n",
       "    .dataframe tbody tr th {\n",
       "        vertical-align: top;\n",
       "    }\n",
       "\n",
       "    .dataframe thead th {\n",
       "        text-align: right;\n",
       "    }\n",
       "</style>\n",
       "<table border=\"1\" class=\"dataframe\">\n",
       "  <thead>\n",
       "    <tr style=\"text-align: right;\">\n",
       "      <th></th>\n",
       "      <th>Hypothesis</th>\n",
       "      <th>Reach</th>\n",
       "      <th>Impact</th>\n",
       "      <th>Confidence</th>\n",
       "      <th>Efforts</th>\n",
       "    </tr>\n",
       "  </thead>\n",
       "  <tbody>\n",
       "    <tr>\n",
       "      <th>0</th>\n",
       "      <td>Добавить два новых канала привлечения трафика, что позволит привлекать на 30% больше пользователей</td>\n",
       "      <td>3</td>\n",
       "      <td>10</td>\n",
       "      <td>8</td>\n",
       "      <td>6</td>\n",
       "    </tr>\n",
       "    <tr>\n",
       "      <th>1</th>\n",
       "      <td>Запустить собственную службу доставки, что сократит срок доставки заказов</td>\n",
       "      <td>2</td>\n",
       "      <td>5</td>\n",
       "      <td>4</td>\n",
       "      <td>10</td>\n",
       "    </tr>\n",
       "    <tr>\n",
       "      <th>2</th>\n",
       "      <td>Добавить блоки рекомендаций товаров на сайт интернет магазина, чтобы повысить конверсию и средний чек заказа</td>\n",
       "      <td>8</td>\n",
       "      <td>3</td>\n",
       "      <td>7</td>\n",
       "      <td>3</td>\n",
       "    </tr>\n",
       "    <tr>\n",
       "      <th>3</th>\n",
       "      <td>Изменить структура категорий, что увеличит конверсию, т.к. пользователи быстрее найдут нужный товар</td>\n",
       "      <td>8</td>\n",
       "      <td>3</td>\n",
       "      <td>3</td>\n",
       "      <td>8</td>\n",
       "    </tr>\n",
       "    <tr>\n",
       "      <th>4</th>\n",
       "      <td>Изменить цвет фона главной страницы, чтобы увеличить вовлеченность пользователей</td>\n",
       "      <td>3</td>\n",
       "      <td>1</td>\n",
       "      <td>1</td>\n",
       "      <td>1</td>\n",
       "    </tr>\n",
       "  </tbody>\n",
       "</table>\n",
       "</div>"
      ],
      "text/plain": [
       "                                                                                                     Hypothesis  \\\n",
       "0            Добавить два новых канала привлечения трафика, что позволит привлекать на 30% больше пользователей   \n",
       "1                                     Запустить собственную службу доставки, что сократит срок доставки заказов   \n",
       "2  Добавить блоки рекомендаций товаров на сайт интернет магазина, чтобы повысить конверсию и средний чек заказа   \n",
       "3           Изменить структура категорий, что увеличит конверсию, т.к. пользователи быстрее найдут нужный товар   \n",
       "4                              Изменить цвет фона главной страницы, чтобы увеличить вовлеченность пользователей   \n",
       "\n",
       "   Reach  Impact  Confidence  Efforts  \n",
       "0      3      10           8        6  \n",
       "1      2       5           4       10  \n",
       "2      8       3           7        3  \n",
       "3      8       3           3        8  \n",
       "4      3       1           1        1  "
      ]
     },
     "execution_count": 290,
     "metadata": {},
     "output_type": "execute_result"
    }
   ],
   "source": [
    "# посмотрим данные в таблице hypothesis\n",
    "pd.set_option('display.max_colwidth', None)\n",
    "hypothesis.head()"
   ]
  },
  {
   "cell_type": "markdown",
   "metadata": {},
   "source": [
    "<div class=\"alert alert-success\">\n",
    "    <b>✅ Комментарий ревьюера:</b>\n",
    "\n",
    "Молодец что вывел столбец с гипотезами полностью!\n",
    "</div>"
   ]
  },
  {
   "cell_type": "code",
   "execution_count": 291,
   "metadata": {
    "scrolled": false
   },
   "outputs": [
    {
     "name": "stdout",
     "output_type": "stream",
     "text": [
      "<class 'pandas.core.frame.DataFrame'>\n",
      "RangeIndex: 9 entries, 0 to 8\n",
      "Data columns (total 5 columns):\n",
      " #   Column      Non-Null Count  Dtype \n",
      "---  ------      --------------  ----- \n",
      " 0   Hypothesis  9 non-null      object\n",
      " 1   Reach       9 non-null      int64 \n",
      " 2   Impact      9 non-null      int64 \n",
      " 3   Confidence  9 non-null      int64 \n",
      " 4   Efforts     9 non-null      int64 \n",
      "dtypes: int64(4), object(1)\n",
      "memory usage: 488.0+ bytes\n"
     ]
    }
   ],
   "source": [
    "# проверим на типы данных и пропущенные значения\n",
    "hypothesis.info()"
   ]
  },
  {
   "cell_type": "code",
   "execution_count": 292,
   "metadata": {},
   "outputs": [
    {
     "data": {
      "text/plain": [
       "0"
      ]
     },
     "execution_count": 292,
     "metadata": {},
     "output_type": "execute_result"
    }
   ],
   "source": [
    "# проверка на дубликаты\n",
    "hypothesis.duplicated().sum()"
   ]
  },
  {
   "cell_type": "code",
   "execution_count": 293,
   "metadata": {},
   "outputs": [],
   "source": [
    "# изменим названия столблцов таблицы hypothesis\n",
    "hypothesis.columns = ['hypothesis', 'reach', 'impact', 'confidence', 'efforts']"
   ]
  },
  {
   "cell_type": "code",
   "execution_count": 294,
   "metadata": {
    "scrolled": false
   },
   "outputs": [
    {
     "data": {
      "text/html": [
       "<div>\n",
       "<style scoped>\n",
       "    .dataframe tbody tr th:only-of-type {\n",
       "        vertical-align: middle;\n",
       "    }\n",
       "\n",
       "    .dataframe tbody tr th {\n",
       "        vertical-align: top;\n",
       "    }\n",
       "\n",
       "    .dataframe thead th {\n",
       "        text-align: right;\n",
       "    }\n",
       "</style>\n",
       "<table border=\"1\" class=\"dataframe\">\n",
       "  <thead>\n",
       "    <tr style=\"text-align: right;\">\n",
       "      <th></th>\n",
       "      <th>transactionId</th>\n",
       "      <th>visitorId</th>\n",
       "      <th>date</th>\n",
       "      <th>revenue</th>\n",
       "      <th>group</th>\n",
       "    </tr>\n",
       "  </thead>\n",
       "  <tbody>\n",
       "    <tr>\n",
       "      <th>0</th>\n",
       "      <td>3667963787</td>\n",
       "      <td>3312258926</td>\n",
       "      <td>2019-08-15</td>\n",
       "      <td>1650</td>\n",
       "      <td>B</td>\n",
       "    </tr>\n",
       "    <tr>\n",
       "      <th>1</th>\n",
       "      <td>2804400009</td>\n",
       "      <td>3642806036</td>\n",
       "      <td>2019-08-15</td>\n",
       "      <td>730</td>\n",
       "      <td>B</td>\n",
       "    </tr>\n",
       "    <tr>\n",
       "      <th>2</th>\n",
       "      <td>2961555356</td>\n",
       "      <td>4069496402</td>\n",
       "      <td>2019-08-15</td>\n",
       "      <td>400</td>\n",
       "      <td>A</td>\n",
       "    </tr>\n",
       "    <tr>\n",
       "      <th>3</th>\n",
       "      <td>3797467345</td>\n",
       "      <td>1196621759</td>\n",
       "      <td>2019-08-15</td>\n",
       "      <td>9759</td>\n",
       "      <td>B</td>\n",
       "    </tr>\n",
       "    <tr>\n",
       "      <th>4</th>\n",
       "      <td>2282983706</td>\n",
       "      <td>2322279887</td>\n",
       "      <td>2019-08-15</td>\n",
       "      <td>2308</td>\n",
       "      <td>B</td>\n",
       "    </tr>\n",
       "  </tbody>\n",
       "</table>\n",
       "</div>"
      ],
      "text/plain": [
       "   transactionId   visitorId        date  revenue group\n",
       "0     3667963787  3312258926  2019-08-15     1650     B\n",
       "1     2804400009  3642806036  2019-08-15      730     B\n",
       "2     2961555356  4069496402  2019-08-15      400     A\n",
       "3     3797467345  1196621759  2019-08-15     9759     B\n",
       "4     2282983706  2322279887  2019-08-15     2308     B"
      ]
     },
     "execution_count": 294,
     "metadata": {},
     "output_type": "execute_result"
    }
   ],
   "source": [
    "# посмотрим данные в таблице orders\n",
    "orders.head()"
   ]
  },
  {
   "cell_type": "code",
   "execution_count": 295,
   "metadata": {
    "scrolled": true
   },
   "outputs": [
    {
     "name": "stdout",
     "output_type": "stream",
     "text": [
      "<class 'pandas.core.frame.DataFrame'>\n",
      "RangeIndex: 1197 entries, 0 to 1196\n",
      "Data columns (total 5 columns):\n",
      " #   Column         Non-Null Count  Dtype \n",
      "---  ------         --------------  ----- \n",
      " 0   transactionId  1197 non-null   int64 \n",
      " 1   visitorId      1197 non-null   int64 \n",
      " 2   date           1197 non-null   object\n",
      " 3   revenue        1197 non-null   int64 \n",
      " 4   group          1197 non-null   object\n",
      "dtypes: int64(3), object(2)\n",
      "memory usage: 46.9+ KB\n"
     ]
    }
   ],
   "source": [
    "# проверим на типы данных и пропущенные значения\n",
    "orders.info()"
   ]
  },
  {
   "cell_type": "code",
   "execution_count": 296,
   "metadata": {},
   "outputs": [],
   "source": [
    "# изменим тип данных столбца data на datetime в orders\n",
    "orders['date'] = orders['date'].map(\n",
    "    lambda x: dt.datetime.strptime(x, '%Y-%m-%d'))"
   ]
  },
  {
   "cell_type": "code",
   "execution_count": 297,
   "metadata": {},
   "outputs": [
    {
     "data": {
      "text/plain": [
       "0"
      ]
     },
     "execution_count": 297,
     "metadata": {},
     "output_type": "execute_result"
    }
   ],
   "source": [
    "# проверка на дубликаты\n",
    "orders.duplicated().sum()"
   ]
  },
  {
   "cell_type": "code",
   "execution_count": 298,
   "metadata": {},
   "outputs": [
    {
     "data": {
      "text/plain": [
       "array(['B', 'A'], dtype=object)"
      ]
     },
     "execution_count": 298,
     "metadata": {},
     "output_type": "execute_result"
    }
   ],
   "source": [
    "# посмотрим уникальные значения в столбце group таблицы orders\n",
    "orders.group.unique()"
   ]
  },
  {
   "cell_type": "code",
   "execution_count": 299,
   "metadata": {},
   "outputs": [],
   "source": [
    "# изменим названия столблцов таблицы orders\n",
    "orders.columns = ['transaction_id', 'visitor_id', 'date', 'revenue', 'group']"
   ]
  },
  {
   "cell_type": "code",
   "execution_count": 300,
   "metadata": {
    "scrolled": false
   },
   "outputs": [
    {
     "data": {
      "text/html": [
       "<div>\n",
       "<style scoped>\n",
       "    .dataframe tbody tr th:only-of-type {\n",
       "        vertical-align: middle;\n",
       "    }\n",
       "\n",
       "    .dataframe tbody tr th {\n",
       "        vertical-align: top;\n",
       "    }\n",
       "\n",
       "    .dataframe thead th {\n",
       "        text-align: right;\n",
       "    }\n",
       "</style>\n",
       "<table border=\"1\" class=\"dataframe\">\n",
       "  <thead>\n",
       "    <tr style=\"text-align: right;\">\n",
       "      <th></th>\n",
       "      <th>date</th>\n",
       "      <th>group</th>\n",
       "      <th>visitors</th>\n",
       "    </tr>\n",
       "  </thead>\n",
       "  <tbody>\n",
       "    <tr>\n",
       "      <th>0</th>\n",
       "      <td>2019-08-01</td>\n",
       "      <td>A</td>\n",
       "      <td>719</td>\n",
       "    </tr>\n",
       "    <tr>\n",
       "      <th>1</th>\n",
       "      <td>2019-08-02</td>\n",
       "      <td>A</td>\n",
       "      <td>619</td>\n",
       "    </tr>\n",
       "    <tr>\n",
       "      <th>2</th>\n",
       "      <td>2019-08-03</td>\n",
       "      <td>A</td>\n",
       "      <td>507</td>\n",
       "    </tr>\n",
       "    <tr>\n",
       "      <th>3</th>\n",
       "      <td>2019-08-04</td>\n",
       "      <td>A</td>\n",
       "      <td>717</td>\n",
       "    </tr>\n",
       "    <tr>\n",
       "      <th>4</th>\n",
       "      <td>2019-08-05</td>\n",
       "      <td>A</td>\n",
       "      <td>756</td>\n",
       "    </tr>\n",
       "  </tbody>\n",
       "</table>\n",
       "</div>"
      ],
      "text/plain": [
       "         date group  visitors\n",
       "0  2019-08-01     A       719\n",
       "1  2019-08-02     A       619\n",
       "2  2019-08-03     A       507\n",
       "3  2019-08-04     A       717\n",
       "4  2019-08-05     A       756"
      ]
     },
     "execution_count": 300,
     "metadata": {},
     "output_type": "execute_result"
    }
   ],
   "source": [
    "# посмотрим данные в таблице visitors\n",
    "visitors.head()"
   ]
  },
  {
   "cell_type": "code",
   "execution_count": 301,
   "metadata": {},
   "outputs": [],
   "source": [
    "# изменим тип данных столбца data на datetime в visitors\n",
    "visitors['date'] = visitors['date'].map(\n",
    "    lambda x: dt.datetime.strptime(x, '%Y-%m-%d'))"
   ]
  },
  {
   "cell_type": "code",
   "execution_count": 302,
   "metadata": {
    "scrolled": true
   },
   "outputs": [
    {
     "name": "stdout",
     "output_type": "stream",
     "text": [
      "<class 'pandas.core.frame.DataFrame'>\n",
      "RangeIndex: 62 entries, 0 to 61\n",
      "Data columns (total 3 columns):\n",
      " #   Column    Non-Null Count  Dtype         \n",
      "---  ------    --------------  -----         \n",
      " 0   date      62 non-null     datetime64[ns]\n",
      " 1   group     62 non-null     object        \n",
      " 2   visitors  62 non-null     int64         \n",
      "dtypes: datetime64[ns](1), int64(1), object(1)\n",
      "memory usage: 1.6+ KB\n"
     ]
    }
   ],
   "source": [
    "# проверим на типы данных и пропущенные значения\n",
    "visitors.info()"
   ]
  },
  {
   "cell_type": "code",
   "execution_count": 303,
   "metadata": {},
   "outputs": [
    {
     "data": {
      "text/plain": [
       "0"
      ]
     },
     "execution_count": 303,
     "metadata": {},
     "output_type": "execute_result"
    }
   ],
   "source": [
    "# проверка на дубликаты\n",
    "visitors.duplicated().sum()"
   ]
  },
  {
   "cell_type": "code",
   "execution_count": 304,
   "metadata": {},
   "outputs": [
    {
     "data": {
      "text/plain": [
       "array(['A', 'B'], dtype=object)"
      ]
     },
     "execution_count": 304,
     "metadata": {},
     "output_type": "execute_result"
    }
   ],
   "source": [
    "# посмотрим уникальные значения в столбце group таблицы visitors\n",
    "visitors.group.unique()"
   ]
  },
  {
   "cell_type": "markdown",
   "metadata": {},
   "source": [
    "Загрузили данные в датафреймы. Провели проверки типов данных, на дубликатыб на пропущенные значения, исправили названия столбцов."
   ]
  },
  {
   "cell_type": "markdown",
   "metadata": {},
   "source": [
    "<div class=\"alert alert-success\">\n",
    "    <b>✅ Комментарий ревьюера:</b>\n",
    "\n",
    "Предобработка принята!\n",
    "</div>"
   ]
  },
  {
   "cell_type": "markdown",
   "metadata": {},
   "source": [
    "## Исследовательский анализ"
   ]
  },
  {
   "cell_type": "code",
   "execution_count": 305,
   "metadata": {},
   "outputs": [
    {
     "data": {
      "image/png": "[encoded data removed]",
      "text/plain": [
       "<Figure size 1080x432 with 1 Axes>"
      ]
     },
     "metadata": {},
     "output_type": "display_data"
    }
   ],
   "source": [
    "# построим гистограмму выручки в группе А\n",
    "orders[orders['group']=='A'].plot(x='date', y='revenue', color='green', kind='hist', bins=20,\n",
    "                                 title='Распределение стоимости заказов в группе А')\n",
    "plt.xlabel('Стоимость заказа')\n",
    "plt.show()"
   ]
  },
  {
   "cell_type": "code",
   "execution_count": 306,
   "metadata": {
    "scrolled": false
   },
   "outputs": [
    {
     "data": {
      "image/png": "[encoded data removed]",
      "text/plain": [
       "<Figure size 1080x432 with 1 Axes>"
      ]
     },
     "metadata": {},
     "output_type": "display_data"
    }
   ],
   "source": [
    "# построим гистограмму выручки в группе B\n",
    "orders[orders['group']=='B'].plot(x='date', y='revenue', color='red', kind='hist', bins=20,\n",
    "                                 title='Распределение стоимости заказов в группе B')\n",
    "plt.xlabel('Стоимость заказа')\n",
    "plt.show()"
   ]
  },
  {
   "cell_type": "code",
   "execution_count": 307,
   "metadata": {},
   "outputs": [
    {
     "data": {
      "image/png": "[encoded data removed]",
      "text/plain": [
       "<Figure size 1080x432 with 1 Axes>"
      ]
     },
     "metadata": {},
     "output_type": "display_data"
    },
    {
     "data": {
      "image/png": "[encoded data removed]",
      "text/plain": [
       "<Figure size 1080x432 with 1 Axes>"
      ]
     },
     "metadata": {},
     "output_type": "display_data"
    }
   ],
   "source": [
    "# помотрим динамику посетителей по дням\n",
    "visitors[visitors['group']=='A'].plot(x='date', y='visitors', color='green')\n",
    "plt.title('Динамика посетителей по дням для группы А')\n",
    "plt.xlabel('Дата')\n",
    "visitors[visitors['group']=='B'].plot(x='date', y='visitors', color='red')\n",
    "plt.title('Динамика посетителей по дням для группы В')\n",
    "plt.xlabel('Дата')\n",
    "plt.show()"
   ]
  },
  {
   "cell_type": "markdown",
   "metadata": {},
   "source": [
    "В таблице orders есть выбросы. Разберемся с ними позже."
   ]
  },
  {
   "cell_type": "markdown",
   "metadata": {},
   "source": [
    "## Приоретизация гипотез"
   ]
  },
  {
   "cell_type": "markdown",
   "metadata": {},
   "source": [
    "### Приоритизация по ICE"
   ]
  },
  {
   "cell_type": "code",
   "execution_count": 308,
   "metadata": {
    "scrolled": false
   },
   "outputs": [
    {
     "data": {
      "text/html": [
       "<div>\n",
       "<style scoped>\n",
       "    .dataframe tbody tr th:only-of-type {\n",
       "        vertical-align: middle;\n",
       "    }\n",
       "\n",
       "    .dataframe tbody tr th {\n",
       "        vertical-align: top;\n",
       "    }\n",
       "\n",
       "    .dataframe thead th {\n",
       "        text-align: right;\n",
       "    }\n",
       "</style>\n",
       "<table border=\"1\" class=\"dataframe\">\n",
       "  <thead>\n",
       "    <tr style=\"text-align: right;\">\n",
       "      <th></th>\n",
       "      <th>hypothesis</th>\n",
       "      <th>ICE</th>\n",
       "    </tr>\n",
       "  </thead>\n",
       "  <tbody>\n",
       "    <tr>\n",
       "      <th>8</th>\n",
       "      <td>Запустить акцию, дающую скидку на товар в день рождения</td>\n",
       "      <td>16.2</td>\n",
       "    </tr>\n",
       "    <tr>\n",
       "      <th>0</th>\n",
       "      <td>Добавить два новых канала привлечения трафика, что позволит привлекать на 30% больше пользователей</td>\n",
       "      <td>13.3</td>\n",
       "    </tr>\n",
       "    <tr>\n",
       "      <th>7</th>\n",
       "      <td>Добавить форму подписки на все основные страницы, чтобы собрать базу клиентов для email-рассылок</td>\n",
       "      <td>11.2</td>\n",
       "    </tr>\n",
       "    <tr>\n",
       "      <th>6</th>\n",
       "      <td>Показать на главной странице баннеры с актуальными акциями и распродажами, чтобы увеличить конверсию</td>\n",
       "      <td>8.0</td>\n",
       "    </tr>\n",
       "    <tr>\n",
       "      <th>2</th>\n",
       "      <td>Добавить блоки рекомендаций товаров на сайт интернет магазина, чтобы повысить конверсию и средний чек заказа</td>\n",
       "      <td>7.0</td>\n",
       "    </tr>\n",
       "    <tr>\n",
       "      <th>1</th>\n",
       "      <td>Запустить собственную службу доставки, что сократит срок доставки заказов</td>\n",
       "      <td>2.0</td>\n",
       "    </tr>\n",
       "    <tr>\n",
       "      <th>5</th>\n",
       "      <td>Добавить страницу отзывов клиентов о магазине, что позволит увеличить количество заказов</td>\n",
       "      <td>1.3</td>\n",
       "    </tr>\n",
       "    <tr>\n",
       "      <th>3</th>\n",
       "      <td>Изменить структура категорий, что увеличит конверсию, т.к. пользователи быстрее найдут нужный товар</td>\n",
       "      <td>1.1</td>\n",
       "    </tr>\n",
       "    <tr>\n",
       "      <th>4</th>\n",
       "      <td>Изменить цвет фона главной страницы, чтобы увеличить вовлеченность пользователей</td>\n",
       "      <td>1.0</td>\n",
       "    </tr>\n",
       "  </tbody>\n",
       "</table>\n",
       "</div>"
      ],
      "text/plain": [
       "                                                                                                     hypothesis  \\\n",
       "8                                                       Запустить акцию, дающую скидку на товар в день рождения   \n",
       "0            Добавить два новых канала привлечения трафика, что позволит привлекать на 30% больше пользователей   \n",
       "7              Добавить форму подписки на все основные страницы, чтобы собрать базу клиентов для email-рассылок   \n",
       "6          Показать на главной странице баннеры с актуальными акциями и распродажами, чтобы увеличить конверсию   \n",
       "2  Добавить блоки рекомендаций товаров на сайт интернет магазина, чтобы повысить конверсию и средний чек заказа   \n",
       "1                                     Запустить собственную службу доставки, что сократит срок доставки заказов   \n",
       "5                      Добавить страницу отзывов клиентов о магазине, что позволит увеличить количество заказов   \n",
       "3           Изменить структура категорий, что увеличит конверсию, т.к. пользователи быстрее найдут нужный товар   \n",
       "4                              Изменить цвет фона главной страницы, чтобы увеличить вовлеченность пользователей   \n",
       "\n",
       "    ICE  \n",
       "8  16.2  \n",
       "0  13.3  \n",
       "7  11.2  \n",
       "6   8.0  \n",
       "2   7.0  \n",
       "1   2.0  \n",
       "5   1.3  \n",
       "3   1.1  \n",
       "4   1.0  "
      ]
     },
     "metadata": {},
     "output_type": "display_data"
    }
   ],
   "source": [
    "# рассчитаем score для каждой гипотезы по фреймворку ICE\n",
    "hypothesis['ICE'] = round((hypothesis['impact']*hypothesis['confidence'])/hypothesis['efforts'],1)\n",
    "display(hypothesis[['hypothesis', 'ICE']].sort_values(by='ICE', ascending=False))"
   ]
  },
  {
   "cell_type": "markdown",
   "metadata": {},
   "source": [
    "<div class=\"alert alert-warning\">\n",
    "    <b>⚠️ Комментарий ревьюера:</b>\n",
    "    \n",
    "Рекомендую вместо `print()` использовать `display()` так как `print()` убивает табличный вид данных и анализировать данные становится сложнее.\n",
    "</div>"
   ]
  },
  {
   "cell_type": "markdown",
   "metadata": {},
   "source": [
    "<div class=\"alert alert-info\">\n",
    "<b> Комментарий студента</b>    \n",
    "    Заменил print() на display()\n",
    "\n",
    "</div>"
   ]
  },
  {
   "cell_type": "markdown",
   "metadata": {},
   "source": [
    "<div class=\"alert alert-success\">\n",
    "    <b>✅ Комментарий ревьюера V2:</b>\n",
    "\n",
    "Принято!\n",
    "</div>"
   ]
  },
  {
   "cell_type": "markdown",
   "metadata": {},
   "source": [
    "### Приоритизация по RICE"
   ]
  },
  {
   "cell_type": "code",
   "execution_count": 309,
   "metadata": {
    "scrolled": false
   },
   "outputs": [
    {
     "data": {
      "text/html": [
       "<div>\n",
       "<style scoped>\n",
       "    .dataframe tbody tr th:only-of-type {\n",
       "        vertical-align: middle;\n",
       "    }\n",
       "\n",
       "    .dataframe tbody tr th {\n",
       "        vertical-align: top;\n",
       "    }\n",
       "\n",
       "    .dataframe thead th {\n",
       "        text-align: right;\n",
       "    }\n",
       "</style>\n",
       "<table border=\"1\" class=\"dataframe\">\n",
       "  <thead>\n",
       "    <tr style=\"text-align: right;\">\n",
       "      <th></th>\n",
       "      <th>hypothesis</th>\n",
       "      <th>ICE</th>\n",
       "      <th>RICE</th>\n",
       "    </tr>\n",
       "  </thead>\n",
       "  <tbody>\n",
       "    <tr>\n",
       "      <th>7</th>\n",
       "      <td>Добавить форму подписки на все основные страницы, чтобы собрать базу клиентов для email-рассылок</td>\n",
       "      <td>11.2</td>\n",
       "      <td>112.0</td>\n",
       "    </tr>\n",
       "    <tr>\n",
       "      <th>2</th>\n",
       "      <td>Добавить блоки рекомендаций товаров на сайт интернет магазина, чтобы повысить конверсию и средний чек заказа</td>\n",
       "      <td>7.0</td>\n",
       "      <td>56.0</td>\n",
       "    </tr>\n",
       "    <tr>\n",
       "      <th>0</th>\n",
       "      <td>Добавить два новых канала привлечения трафика, что позволит привлекать на 30% больше пользователей</td>\n",
       "      <td>13.3</td>\n",
       "      <td>40.0</td>\n",
       "    </tr>\n",
       "    <tr>\n",
       "      <th>6</th>\n",
       "      <td>Показать на главной странице баннеры с актуальными акциями и распродажами, чтобы увеличить конверсию</td>\n",
       "      <td>8.0</td>\n",
       "      <td>40.0</td>\n",
       "    </tr>\n",
       "    <tr>\n",
       "      <th>8</th>\n",
       "      <td>Запустить акцию, дающую скидку на товар в день рождения</td>\n",
       "      <td>16.2</td>\n",
       "      <td>16.2</td>\n",
       "    </tr>\n",
       "    <tr>\n",
       "      <th>3</th>\n",
       "      <td>Изменить структура категорий, что увеличит конверсию, т.к. пользователи быстрее найдут нужный товар</td>\n",
       "      <td>1.1</td>\n",
       "      <td>9.0</td>\n",
       "    </tr>\n",
       "    <tr>\n",
       "      <th>1</th>\n",
       "      <td>Запустить собственную службу доставки, что сократит срок доставки заказов</td>\n",
       "      <td>2.0</td>\n",
       "      <td>4.0</td>\n",
       "    </tr>\n",
       "    <tr>\n",
       "      <th>5</th>\n",
       "      <td>Добавить страницу отзывов клиентов о магазине, что позволит увеличить количество заказов</td>\n",
       "      <td>1.3</td>\n",
       "      <td>4.0</td>\n",
       "    </tr>\n",
       "    <tr>\n",
       "      <th>4</th>\n",
       "      <td>Изменить цвет фона главной страницы, чтобы увеличить вовлеченность пользователей</td>\n",
       "      <td>1.0</td>\n",
       "      <td>3.0</td>\n",
       "    </tr>\n",
       "  </tbody>\n",
       "</table>\n",
       "</div>"
      ],
      "text/plain": [
       "                                                                                                     hypothesis  \\\n",
       "7              Добавить форму подписки на все основные страницы, чтобы собрать базу клиентов для email-рассылок   \n",
       "2  Добавить блоки рекомендаций товаров на сайт интернет магазина, чтобы повысить конверсию и средний чек заказа   \n",
       "0            Добавить два новых канала привлечения трафика, что позволит привлекать на 30% больше пользователей   \n",
       "6          Показать на главной странице баннеры с актуальными акциями и распродажами, чтобы увеличить конверсию   \n",
       "8                                                       Запустить акцию, дающую скидку на товар в день рождения   \n",
       "3           Изменить структура категорий, что увеличит конверсию, т.к. пользователи быстрее найдут нужный товар   \n",
       "1                                     Запустить собственную службу доставки, что сократит срок доставки заказов   \n",
       "5                      Добавить страницу отзывов клиентов о магазине, что позволит увеличить количество заказов   \n",
       "4                              Изменить цвет фона главной страницы, чтобы увеличить вовлеченность пользователей   \n",
       "\n",
       "    ICE   RICE  \n",
       "7  11.2  112.0  \n",
       "2   7.0   56.0  \n",
       "0  13.3   40.0  \n",
       "6   8.0   40.0  \n",
       "8  16.2   16.2  \n",
       "3   1.1    9.0  \n",
       "1   2.0    4.0  \n",
       "5   1.3    4.0  \n",
       "4   1.0    3.0  "
      ]
     },
     "metadata": {},
     "output_type": "display_data"
    }
   ],
   "source": [
    "# рассчитаем score для каждой гипотезы по фреймворку RICE\n",
    "hypothesis['RICE'] = (hypothesis['reach']*hypothesis['impact']*hypothesis['confidence'])/hypothesis['efforts']\n",
    "display(hypothesis[['hypothesis', 'ICE', 'RICE']].sort_values(by='RICE', ascending=False))"
   ]
  },
  {
   "cell_type": "markdown",
   "metadata": {},
   "source": [
    "<div class=\"alert alert-warning\">\n",
    "  <b>⚠️ Комментарий ревьюера:</b>\n",
    "    \n",
    "Давай выведем здесь одновременно результаты и RICE и ICE для удобства сравнения.\n",
    "  </div>"
   ]
  },
  {
   "cell_type": "markdown",
   "metadata": {},
   "source": [
    "<div class=\"alert alert-info\">\n",
    "<b> Комментарий студента</b>    \n",
    "    Добавил вывод ICE score\n",
    "\n",
    "</div>"
   ]
  },
  {
   "cell_type": "markdown",
   "metadata": {},
   "source": [
    "<div class=\"alert alert-success\">\n",
    "    <b>✅ Комментарий ревьюера V2:</b>\n",
    "\n",
    "👍\n",
    "</div>"
   ]
  },
  {
   "cell_type": "markdown",
   "metadata": {},
   "source": [
    "При применении фреймворка RICE после ICE изменился порядок приоритетности гипотез.     \n",
    "\n",
    "Так произошло потому что **RICE учитывает оценку охвата изменений, а ICE - нет.** То есть на какое количество пользователей повлияет внедрение данных изменений.     \n",
    "\n",
    "Таким образом гипотеза `\"Запустить акцию, дающую скидку на товар в день рождения\"`, например, упала в приоритете с 1 на 5 позицию, так как охватывает только пользователей, у которых сегодня день рождение."
   ]
  },
  {
   "cell_type": "markdown",
   "metadata": {},
   "source": [
    "<div class=\"alert alert-success\">\n",
    "    <b>✅ Комментарий ревьюера:</b>\n",
    "\n",
    "Все верно, дело в охвате!\n",
    "</div>"
   ]
  },
  {
   "cell_type": "markdown",
   "metadata": {},
   "source": [
    "## Анализ A/B-теста"
   ]
  },
  {
   "cell_type": "markdown",
   "metadata": {},
   "source": [
    "###  График кумулятивной выручки по группам"
   ]
  },
  {
   "cell_type": "code",
   "execution_count": 310,
   "metadata": {
    "scrolled": true
   },
   "outputs": [
    {
     "name": "stdout",
     "output_type": "stream",
     "text": [
      "        date group  orders  buyers  revenue  visitors\n",
      "0 2019-08-01     A      24      20   148579       719\n",
      "1 2019-08-01     B      21      20   101217       713\n",
      "2 2019-08-02     A      44      38   242401      1338\n",
      "3 2019-08-02     B      45      43   266748      1294\n",
      "4 2019-08-03     A      68      62   354874      1845\n"
     ]
    }
   ],
   "source": [
    "# подготавливаем данные для построения графиков\n",
    "datesGroups = orders[['date', 'group']].drop_duplicates()\n",
    "\n",
    "ordersAggregated=datesGroups.apply(lambda x: orders[np.logical_and(orders['date'] <= x['date'], orders['group'] == x['group'])]\\\n",
    ".agg({'date' : 'max', 'group' : 'max', 'transaction_id' : 'nunique', 'visitor_id' : 'nunique', 'revenue' : 'sum'}), axis=1)\\\n",
    ".sort_values(by=['date','group'])\n",
    "\n",
    "visitorsAggregated=datesGroups.apply(\n",
    "    lambda x: visitors[np.logical_and(visitors['date'] <= x['date'], visitors['group'] == x['group'])]\\\n",
    "    .agg({'date' : 'max', 'group' : 'max', 'visitors' : 'sum'}), axis=1).sort_values(by=['date','group']) \n",
    "\n",
    "# объединяем кумулятивные данные в одной таблице и присваиваем ее столбцам понятные названия\n",
    "\n",
    "cumulativeData = ordersAggregated.merge(visitorsAggregated, left_on=['date', 'group'], right_on=['date', 'group'])\n",
    "\n",
    "cumulativeData.columns = ['date', 'group', 'orders', 'buyers', 'revenue', 'visitors']\n",
    "\n",
    "print(cumulativeData.head(5)) "
   ]
  },
  {
   "cell_type": "code",
   "execution_count": 311,
   "metadata": {
    "scrolled": false
   },
   "outputs": [
    {
     "data": {
      "image/png": "[encoded data removed]",
      "text/plain": [
       "<Figure size 1080x432 with 1 Axes>"
      ]
     },
     "metadata": {},
     "output_type": "display_data"
    }
   ],
   "source": [
    "# датафрейм с кумулятивным количеством заказов и кумулятивной выручкой по дням в группе А\n",
    "cumulativeRevenueA = cumulativeData[cumulativeData['group']=='A'][['date','revenue', 'orders']]\n",
    "\n",
    "# датафрейм с кумулятивным количеством заказов и кумулятивной выручкой по дням в группе B\n",
    "cumulativeRevenueB = cumulativeData[cumulativeData['group']=='B'][['date','revenue', 'orders']]\n",
    "\n",
    "# Строим график выручки группы А\n",
    "plt.plot(cumulativeRevenueA['date'], cumulativeRevenueA['revenue'], label='A')\n",
    "\n",
    "# Строим график выручки группы B\n",
    "plt.plot(cumulativeRevenueB['date'], cumulativeRevenueB['revenue'], label='B')\n",
    "\n",
    "plt.title('Коммулятивная выручка в группах по дням')\n",
    "plt.xlabel('Дата')\n",
    "plt.ylabel('Выручка')\n",
    "plt.legend() \n",
    "plt.show()"
   ]
  },
  {
   "cell_type": "markdown",
   "metadata": {},
   "source": [
    "<div class=\"alert alert-success\">\n",
    "    <b>✅ Комментарий ревьюера:</b>\n",
    "\n",
    "График построен и оформлен верно!\n",
    "</div>"
   ]
  },
  {
   "cell_type": "markdown",
   "metadata": {},
   "source": [
    "Выручка по группам изначально примерно одинаковая. Но примерно после 2019-08-17 есть большой скачок, который обуславливает сильное различие в выручке к концу теста.\n",
    "\n",
    "**Такой резкий рост выручки для группы B может быть обусловленно одной крупной продажей, выбросом.**\n",
    "\n"
   ]
  },
  {
   "cell_type": "markdown",
   "metadata": {},
   "source": [
    "<div class=\"alert alert-warning\">\n",
    "    <b>⚠️ Комментарий ревьюера:</b>\n",
    "    \n",
    "Верно! Но также если анализировать только этот график - так повлиять может всплеск числа заказов.\n",
    "</div>"
   ]
  },
  {
   "cell_type": "markdown",
   "metadata": {},
   "source": [
    "### График кумулятивного среднего чека по группам"
   ]
  },
  {
   "cell_type": "code",
   "execution_count": 312,
   "metadata": {
    "scrolled": false
   },
   "outputs": [
    {
     "data": {
      "image/png": "[encoded data removed]",
      "text/plain": [
       "<Figure size 1080x432 with 1 Axes>"
      ]
     },
     "metadata": {},
     "output_type": "display_data"
    }
   ],
   "source": [
    "plt.plot(cumulativeRevenueA['date'], cumulativeRevenueA['revenue']/cumulativeRevenueA['orders'], label='A')\n",
    "plt.plot(cumulativeRevenueB['date'], cumulativeRevenueB['revenue']/cumulativeRevenueB['orders'], label='B')\n",
    "\n",
    "plt.title('Коммулятивная средний чек в группах по дням')\n",
    "plt.xlabel('Дата')\n",
    "plt.ylabel('Средний чек')\n",
    "plt.legend() \n",
    "plt.show()"
   ]
  },
  {
   "cell_type": "markdown",
   "metadata": {},
   "source": [
    "Здесь мы также видим, что резко вырос средний чек. Вероятная причина в крупной продаже.\n",
    "\n",
    "В первое время после запуска теста средний чек группы B вырос по отношению к группе А.\n",
    "Затем был резкий скачек примерно 2019-08-18 в показателе среднего чека для группы B.\n",
    "После скачка средний чек группы B падает, а группы А - растет. \n",
    "\n",
    "При исключении нетипичных крупных сделок-выбросов мы скорее всего получим, что показатели среднего чека с 2019-08-13 колеблются в достаточно узком диапазоне в 1000 руб и начинают стабилизироваться. \n",
    "\n",
    "При возможности для получения более точных результатов стоит поднакопить еще данных."
   ]
  },
  {
   "cell_type": "markdown",
   "metadata": {},
   "source": [
    "<div class=\"alert alert-success\">\n",
    "    <b>✅ Комментарий ревьюера:</b>\n",
    "\n",
    "Верно, если выросла и прибыль и средний чек - дело точно в дорогом заказе.\n",
    "</div>"
   ]
  },
  {
   "cell_type": "markdown",
   "metadata": {},
   "source": [
    "<div class=\"alert alert-danger\">\n",
    "    <b>❌ Комментарий ревьюера:</b>\n",
    "    \n",
    "Давай более подробно проанализируем график: кто лидировал на разных участках? Когда был резкий рост? как графики двигаются после выброса? Стабилизировались ли они?\n",
    "</div>"
   ]
  },
  {
   "cell_type": "markdown",
   "metadata": {},
   "source": [
    "<div class=\"alert alert-info\">\n",
    "<b> Комментарий студента</b>    \n",
    "    Дописал анализ графика\n",
    "\n",
    "</div>"
   ]
  },
  {
   "cell_type": "markdown",
   "metadata": {},
   "source": [
    "<div class=\"alert alert-success\">\n",
    "    <b>✅ Комментарий ревьюера V2:</b>\n",
    "\n",
    "Все верно!\n",
    "</div>"
   ]
  },
  {
   "cell_type": "markdown",
   "metadata": {},
   "source": [
    "### График относительного изменения кумулятивного среднего чека группы B к группе A"
   ]
  },
  {
   "cell_type": "code",
   "execution_count": 313,
   "metadata": {
    "scrolled": false
   },
   "outputs": [
    {
     "data": {
      "image/png": "[encoded data removed]",
      "text/plain": [
       "<Figure size 1080x432 with 1 Axes>"
      ]
     },
     "metadata": {},
     "output_type": "display_data"
    }
   ],
   "source": [
    "# собираем данные в одном датафрейме\n",
    "mergedCumulativeRevenue = cumulativeRevenueA.merge(cumulativeRevenueB, left_on='date', right_on='date', how='left', suffixes=['A', 'B'])\n",
    "\n",
    "# cтроим отношение средних чеков\n",
    "plt.plot(mergedCumulativeRevenue['date'], (mergedCumulativeRevenue['revenueB']/mergedCumulativeRevenue['ordersB'])/(mergedCumulativeRevenue['revenueA']/mergedCumulativeRevenue['ordersA'])-1)\n",
    "\n",
    "# добавляем ось X\n",
    "plt.axhline(y=0, color='black', linestyle='--') \n",
    "\n",
    "plt.title('Относительное именение коммулятивного среднего чека группы B к группе A')\n",
    "plt.xlabel('Дата')\n",
    "plt.ylabel('Средний чек')\n",
    "plt.show()"
   ]
  },
  {
   "cell_type": "markdown",
   "metadata": {},
   "source": [
    "Сначала средний чек группы В к группе А рос, потом падал, затем был резкий рост и снова падение. \n",
    "\n",
    "Главный вопрос все еще остается за причиной резкого роста."
   ]
  },
  {
   "cell_type": "markdown",
   "metadata": {},
   "source": [
    "<div class=\"alert alert-success\">\n",
    "    <b>✅ Комментарий ревьюера:</b>\n",
    "\n",
    "Принято!\n",
    "</div>"
   ]
  },
  {
   "cell_type": "markdown",
   "metadata": {},
   "source": [
    "### График кумулятивного среднего количества заказов на посетителя по группам"
   ]
  },
  {
   "cell_type": "code",
   "execution_count": 314,
   "metadata": {
    "scrolled": false
   },
   "outputs": [
    {
     "data": {
      "image/png": "[encoded data removed]",
      "text/plain": [
       "<Figure size 1080x432 with 1 Axes>"
      ]
     },
     "metadata": {},
     "output_type": "display_data"
    }
   ],
   "source": [
    " #считаем кумулятивную конверсию\n",
    "cumulativeData['conversion'] = cumulativeData['orders']/cumulativeData['visitors']\n",
    "\n",
    "# отделяем данные по группе A\n",
    "cumulativeDataA = cumulativeData[cumulativeData['group']=='A']\n",
    "\n",
    "# отделяем данные по группе B\n",
    "cumulativeDataB = cumulativeData[cumulativeData['group']=='B']\n",
    "\n",
    "# строим графики\n",
    "plt.plot(cumulativeDataA['date'], cumulativeDataA['conversion'], label='A')\n",
    "plt.plot(cumulativeDataB['date'], cumulativeDataB['conversion'], label='B')\n",
    "plt.title('Коммулятивное среднее количество заказов на посетителя по группам')\n",
    "plt.xlabel('Дата')\n",
    "plt.ylabel('Количество заказов на посетителя')\n",
    "plt.legend() \n",
    "plt.show()\n"
   ]
  },
  {
   "cell_type": "markdown",
   "metadata": {},
   "source": [
    "Количеству заказов на посетителя в группе А падает и стабилизируется по сравнению с группой В.\n",
    "\n",
    "Таким образом в разрезе количества заказов на посетителя группа B - лучше.\n"
   ]
  },
  {
   "cell_type": "markdown",
   "metadata": {},
   "source": [
    "<div class=\"alert alert-success\">\n",
    "    <b>✅ Комментарий ревьюера:</b>\n",
    "\n",
    "Принято!\n",
    "</div>"
   ]
  },
  {
   "cell_type": "markdown",
   "metadata": {},
   "source": [
    "### График относительного изменения кумулятивного среднего количества заказов на посетителя группы B к группе A"
   ]
  },
  {
   "cell_type": "code",
   "execution_count": 315,
   "metadata": {
    "scrolled": false
   },
   "outputs": [
    {
     "data": {
      "image/png": "[encoded data removed]",
      "text/plain": [
       "<Figure size 1080x432 with 1 Axes>"
      ]
     },
     "metadata": {},
     "output_type": "display_data"
    }
   ],
   "source": [
    "mergedCumulativeConversions = cumulativeDataA[['date','conversion']].merge(cumulativeDataB[['date','conversion']], \n",
    "                                                                           left_on='date', right_on='date', how='left',\n",
    "                                                                           suffixes=['A', 'B'])\n",
    "\n",
    "plt.plot(mergedCumulativeConversions['date'], \n",
    "         mergedCumulativeConversions['conversionB']/mergedCumulativeConversions['conversionA']-1, \n",
    "         label=\"Относительный прирост конверсии группы B относительно группы A\")\n",
    "\n",
    "plt.axhline(y=0, color='black', linestyle='--')\n",
    "\n",
    "\n",
    "plt.title('Относительное именение коммулятивного среднего количества заказов на посетителя группы B к группе A')\n",
    "plt.xlabel('Дата')\n",
    "plt.ylabel('Среднее количество заказов на посетителя')\n",
    "plt.show()"
   ]
  },
  {
   "cell_type": "markdown",
   "metadata": {},
   "source": [
    "Метрика в группе В стабильно больше по отношению к группе А."
   ]
  },
  {
   "cell_type": "markdown",
   "metadata": {},
   "source": [
    "<div class=\"alert alert-success\">\n",
    "    <b>✅ Комментарий ревьюера:</b>\n",
    "\n",
    "Верно. Здесь также можно указать около какого значения зафиксировался график.\n",
    "</div>"
   ]
  },
  {
   "cell_type": "markdown",
   "metadata": {},
   "source": [
    "### Точечный график количества заказов по пользователям"
   ]
  },
  {
   "cell_type": "code",
   "execution_count": 316,
   "metadata": {},
   "outputs": [
    {
     "data": {
      "text/html": [
       "<div>\n",
       "<style scoped>\n",
       "    .dataframe tbody tr th:only-of-type {\n",
       "        vertical-align: middle;\n",
       "    }\n",
       "\n",
       "    .dataframe tbody tr th {\n",
       "        vertical-align: top;\n",
       "    }\n",
       "\n",
       "    .dataframe thead th {\n",
       "        text-align: right;\n",
       "    }\n",
       "</style>\n",
       "<table border=\"1\" class=\"dataframe\">\n",
       "  <thead>\n",
       "    <tr style=\"text-align: right;\">\n",
       "      <th></th>\n",
       "      <th>visitor_id</th>\n",
       "      <th>orders</th>\n",
       "    </tr>\n",
       "  </thead>\n",
       "  <tbody>\n",
       "    <tr>\n",
       "      <th>0</th>\n",
       "      <td>5114589</td>\n",
       "      <td>1</td>\n",
       "    </tr>\n",
       "    <tr>\n",
       "      <th>1</th>\n",
       "      <td>6958315</td>\n",
       "      <td>1</td>\n",
       "    </tr>\n",
       "    <tr>\n",
       "      <th>2</th>\n",
       "      <td>8300375</td>\n",
       "      <td>2</td>\n",
       "    </tr>\n",
       "    <tr>\n",
       "      <th>3</th>\n",
       "      <td>11685486</td>\n",
       "      <td>1</td>\n",
       "    </tr>\n",
       "    <tr>\n",
       "      <th>4</th>\n",
       "      <td>39475350</td>\n",
       "      <td>1</td>\n",
       "    </tr>\n",
       "  </tbody>\n",
       "</table>\n",
       "</div>"
      ],
      "text/plain": [
       "   visitor_id  orders\n",
       "0     5114589       1\n",
       "1     6958315       1\n",
       "2     8300375       2\n",
       "3    11685486       1\n",
       "4    39475350       1"
      ]
     },
     "execution_count": 316,
     "metadata": {},
     "output_type": "execute_result"
    }
   ],
   "source": [
    "# построим таблицу ordersByUsers\n",
    "ordersByUsers = (\n",
    "    orders.groupby('visitor_id')\n",
    "    .agg({'transaction_id': 'nunique'})\n",
    ")\n",
    "\n",
    "ordersByUsers.columns = ['orders']\n",
    "ordersByUsers = ordersByUsers.reset_index()\n",
    "ordersByUsers.head()"
   ]
  },
  {
   "cell_type": "code",
   "execution_count": 317,
   "metadata": {
    "scrolled": false
   },
   "outputs": [
    {
     "data": {
      "image/png": "[encoded data removed]",
      "text/plain": [
       "<Figure size 1080x432 with 1 Axes>"
      ]
     },
     "metadata": {},
     "output_type": "display_data"
    }
   ],
   "source": [
    "# построим точечный график количества заказов по пользователям\n",
    "plt.scatter(ordersByUsers.index, ordersByUsers['orders']) \n",
    "plt.title('Количество заказов по пользователям')\n",
    "plt.xlabel('Пользователь')\n",
    "plt.ylabel('Заказы')\n",
    "plt.show()"
   ]
  },
  {
   "cell_type": "markdown",
   "metadata": {},
   "source": [
    "По графику мы видим, что количество пользователей с числом заказов больше 3 не много. **Большинство пользователей делают до 2 заказов включительно.**"
   ]
  },
  {
   "cell_type": "markdown",
   "metadata": {},
   "source": [
    "<div class=\"alert alert-success\">\n",
    "    <b>✅ Комментарий ревьюера:</b>\n",
    "\n",
    "График построен верно, вывод логичен.\n",
    "</div>"
   ]
  },
  {
   "cell_type": "markdown",
   "metadata": {},
   "source": [
    "### 95-й и 99-й перцентили количества заказов на пользователя"
   ]
  },
  {
   "cell_type": "code",
   "execution_count": 318,
   "metadata": {
    "scrolled": false
   },
   "outputs": [
    {
     "name": "stdout",
     "output_type": "stream",
     "text": [
      "[2. 4.]\n"
     ]
    }
   ],
   "source": [
    "# посчитаем 95 и 99 процентили по количеству закзов на пользователя\n",
    "print(np.percentile(ordersByUsers['orders'], [95, 99])) "
   ]
  },
  {
   "cell_type": "markdown",
   "metadata": {},
   "source": [
    "**В качестве границы для определения аномальных пользователей выберем пользователей с числом заказов более 2.**"
   ]
  },
  {
   "cell_type": "markdown",
   "metadata": {},
   "source": [
    "<div class=\"alert alert-success\">\n",
    "    <b>✅ Комментарий ревьюера:</b>\n",
    "\n",
    "Принято!\n",
    "</div>"
   ]
  },
  {
   "cell_type": "markdown",
   "metadata": {},
   "source": [
    "###  Точечный график стоимостей заказов"
   ]
  },
  {
   "cell_type": "code",
   "execution_count": 319,
   "metadata": {
    "scrolled": false
   },
   "outputs": [
    {
     "data": {
      "image/png": "[encoded data removed]",
      "text/plain": [
       "<Figure size 1080x432 with 1 Axes>"
      ]
     },
     "metadata": {},
     "output_type": "display_data"
    }
   ],
   "source": [
    "# построим точечный график стоимостей заказов\n",
    "plt.scatter(orders.index, orders['revenue']) \n",
    "plt.title('Стоимости заказов')\n",
    "plt.xlabel('Заказы')\n",
    "plt.ylabel('Стоимость')\n",
    "plt.show()"
   ]
  },
  {
   "cell_type": "code",
   "execution_count": 320,
   "metadata": {},
   "outputs": [
    {
     "data": {
      "image/png": "[encoded data removed]",
      "text/plain": [
       "<Figure size 1080x432 with 1 Axes>"
      ]
     },
     "metadata": {},
     "output_type": "display_data"
    }
   ],
   "source": [
    "# построим точечный график стоимостей заказов без выбросов \n",
    "plt.scatter(orders.index, orders['revenue']) \n",
    "plt.title('Стоимости заказов до 100000')\n",
    "plt.xlabel('Заказы')\n",
    "plt.ylabel('Стоимость')\n",
    "plt.ylim([0, 100000])\n",
    "plt.show()"
   ]
  },
  {
   "cell_type": "markdown",
   "metadata": {},
   "source": [
    "<div class=\"alert alert-warning\">\n",
    "    <b>⚠️ Комментарий ревьюера:</b>\n",
    "    \n",
    "Из-за двух выбросов график стал неинформативным. Давай сделаем еще один график без выбросов.\n",
    "</div>"
   ]
  },
  {
   "cell_type": "markdown",
   "metadata": {},
   "source": [
    "<div class=\"alert alert-info\">\n",
    "<b> Комментарий студента</b>    \n",
    "    Построил график без выбросов\n",
    "\n",
    "</div>"
   ]
  },
  {
   "cell_type": "markdown",
   "metadata": {},
   "source": [
    "<div class=\"alert alert-success\">\n",
    "    <b>✅ Комментарий ревьюера V2:</b>\n",
    "\n",
    "Принято!\n",
    "</div>"
   ]
  },
  {
   "cell_type": "markdown",
   "metadata": {},
   "source": [
    "Подтверждается наше предположение о выбрасах в стоимости заказа.\n",
    "\n",
    "По графику видим, что есть **2 нетипичных заказа явно выделяющихся по стоимости.**"
   ]
  },
  {
   "cell_type": "markdown",
   "metadata": {},
   "source": [
    "### 95-й и 99-й перцентили стоимости заказов"
   ]
  },
  {
   "cell_type": "code",
   "execution_count": 321,
   "metadata": {},
   "outputs": [
    {
     "name": "stdout",
     "output_type": "stream",
     "text": [
      "[28000.  58233.2]\n"
     ]
    }
   ],
   "source": [
    "# посчитаем 95 и 99 процентили по стоимостям заказов\n",
    "print(np.percentile(orders['revenue'], [95, 99])) "
   ]
  },
  {
   "cell_type": "markdown",
   "metadata": {},
   "source": [
    "**В качестве границы для определения аномальных заказов выберем заказы со стоимостью более 28000.**"
   ]
  },
  {
   "cell_type": "markdown",
   "metadata": {},
   "source": [
    "<div class=\"alert alert-success\">\n",
    "    <b>✅ Комментарий ревьюера:</b>\n",
    "\n",
    "Принято!\n",
    "</div>"
   ]
  },
  {
   "cell_type": "markdown",
   "metadata": {},
   "source": [
    "### Статистическая значимость различий в среднем количестве заказов на посетителя между группами по «сырым» данным"
   ]
  },
  {
   "cell_type": "code",
   "execution_count": 322,
   "metadata": {
    "scrolled": false
   },
   "outputs": [
    {
     "name": "stdout",
     "output_type": "stream",
     "text": [
      "        date  ordersPerDateA  revenuePerDateA  ordersPerDateB  \\\n",
      "0 2019-08-01              20           148579              20   \n",
      "1 2019-08-02              19            93822              23   \n",
      "2 2019-08-03              24           112473              16   \n",
      "3 2019-08-04              15            70825              16   \n",
      "4 2019-08-05              25           124218              23   \n",
      "\n",
      "   revenuePerDateB  ordersCummulativeA  revenueCummulativeA  \\\n",
      "0           101217                  20               148579   \n",
      "1           165531                  39               242401   \n",
      "2           114248                  63               354874   \n",
      "3           108571                  78               425699   \n",
      "4            92428                 103               549917   \n",
      "\n",
      "   ordersCummulativeB  revenueCummulativeB  visitorsPerDateA  \\\n",
      "0                  20               101217               719   \n",
      "1                  43               266748               619   \n",
      "2                  59               380996               507   \n",
      "3                  75               489567               717   \n",
      "4                  98               581995               756   \n",
      "\n",
      "   visitorsPerDateB  visitorsCummulativeA  visitorsCummulativeB  \n",
      "0               713                   719                   713  \n",
      "1               581                  1338                  1294  \n",
      "2               509                  1845                  1803  \n",
      "3               770                  2562                  2573  \n",
      "4               707                  3318                  3280  \n"
     ]
    }
   ],
   "source": [
    "# подготовим данные для анализа\n",
    "visitorsADaily = visitors[visitors['group'] == 'A'][['date', 'visitors']]\n",
    "visitorsADaily.columns = ['date', 'visitorsPerDateA']\n",
    "\n",
    "visitorsACummulative = visitorsADaily.apply(\n",
    "    lambda x: visitorsADaily[visitorsADaily['date'] <= x['date']].agg(\n",
    "        {'date': 'max', 'visitorsPerDateA': 'sum'}\n",
    "    ),\n",
    "    axis=1,\n",
    ")\n",
    "visitorsACummulative.columns = ['date', 'visitorsCummulativeA']\n",
    "\n",
    "visitorsBDaily = visitors[visitors['group'] == 'B'][['date', 'visitors']]\n",
    "visitorsBDaily.columns = ['date', 'visitorsPerDateB']\n",
    "\n",
    "visitorsBCummulative = visitorsBDaily.apply(\n",
    "    lambda x: visitorsBDaily[visitorsBDaily['date'] <= x['date']].agg(\n",
    "        {'date': 'max', 'visitorsPerDateB': 'sum'}\n",
    "    ),\n",
    "    axis=1,\n",
    ")\n",
    "visitorsBCummulative.columns = ['date', 'visitorsCummulativeB']\n",
    "\n",
    "ordersADaily = (\n",
    "    orders[orders['group'] == 'A'][['date', 'transaction_id', 'visitor_id', 'revenue']]\n",
    "    .groupby('date', as_index=False)\n",
    "    .agg({'visitor_id': pd.Series.nunique, 'revenue': 'sum'})\n",
    ")\n",
    "ordersADaily.columns = ['date', 'ordersPerDateA', 'revenuePerDateA']\n",
    "\n",
    "ordersACummulative = ordersADaily.apply(\n",
    "    lambda x: ordersADaily[ordersADaily['date'] <= x['date']].agg(\n",
    "        {'date': 'max', 'ordersPerDateA': 'sum', 'revenuePerDateA': 'sum'}\n",
    "    ),\n",
    "    axis=1,\n",
    ").sort_values(by=['date'])\n",
    "ordersACummulative.columns = [\n",
    "    'date',\n",
    "    'ordersCummulativeA',\n",
    "    'revenueCummulativeA',\n",
    "]\n",
    "\n",
    "ordersBDaily = (\n",
    "    orders[orders['group'] == 'B'][['date', 'transaction_id', 'visitor_id', 'revenue']]\n",
    "    .groupby('date', as_index=False)\n",
    "    .agg({'visitor_id': pd.Series.nunique, 'revenue': 'sum'})\n",
    ")\n",
    "ordersBDaily.columns = ['date', 'ordersPerDateB', 'revenuePerDateB']\n",
    "\n",
    "ordersBCummulative = ordersBDaily.apply(\n",
    "    lambda x: ordersBDaily[ordersBDaily['date'] <= x['date']].agg(\n",
    "        {'date': 'max', 'ordersPerDateB': 'sum', 'revenuePerDateB': 'sum'}\n",
    "    ),\n",
    "    axis=1,\n",
    ").sort_values(by=['date'])\n",
    "ordersBCummulative.columns = [\n",
    "    'date',\n",
    "    'ordersCummulativeB',\n",
    "    'revenueCummulativeB',\n",
    "]\n",
    "\n",
    "data = (\n",
    "    ordersADaily.merge(\n",
    "        ordersBDaily, left_on='date', right_on='date', how='left'\n",
    "    )\n",
    "    .merge(ordersACummulative, left_on='date', right_on='date', how='left')\n",
    "    .merge(ordersBCummulative, left_on='date', right_on='date', how='left')\n",
    "    .merge(visitorsADaily, left_on='date', right_on='date', how='left')\n",
    "    .merge(visitorsBDaily, left_on='date', right_on='date', how='left')\n",
    "    .merge(visitorsACummulative, left_on='date', right_on='date', how='left')\n",
    "    .merge(visitorsBCummulative, left_on='date', right_on='date', how='left')\n",
    ")\n",
    "\n",
    "print(data.head(5))\n",
    "\n",
    "ordersByUsersA = (\n",
    "    orders[orders['group'] == 'A']\n",
    "    .groupby('visitor_id', as_index=False)\n",
    "    .agg({'transaction_id': pd.Series.nunique})\n",
    ")\n",
    "ordersByUsersA.columns = ['visitor_id', 'orders']\n",
    "\n",
    "ordersByUsersB = (\n",
    "    orders[orders['group'] == 'B']\n",
    "    .groupby('visitor_id', as_index=False)\n",
    "    .agg({'transaction_id': pd.Series.nunique})\n",
    ")\n",
    "ordersByUsersB.columns = ['visitor_id', 'orders']\n",
    "\n",
    "sampleA = pd.concat(\n",
    "    [\n",
    "        ordersByUsersA['orders'],\n",
    "        pd.Series(\n",
    "            0,\n",
    "            index=np.arange(\n",
    "                data['visitorsPerDateA'].sum() - len(ordersByUsersA['orders'])\n",
    "            ),\n",
    "            name='orders',\n",
    "        ),\n",
    "    ],\n",
    "    axis=0,\n",
    ")\n",
    "\n",
    "sampleB = pd.concat(\n",
    "    [\n",
    "        ordersByUsersB['orders'],\n",
    "        pd.Series(\n",
    "            0,\n",
    "            index=np.arange(\n",
    "                data['visitorsPerDateB'].sum() - len(ordersByUsersB['orders'])\n",
    "            ),\n",
    "            name='orders',\n",
    "        ),\n",
    "    ],\n",
    "    axis=0,\n",
    ")\n",
    "\n",
    "\n",
    " "
   ]
  },
  {
   "cell_type": "markdown",
   "metadata": {},
   "source": [
    "<div class=\"alert alert-warning\">\n",
    "    <b>⚠️ Комментарий ревьюера:</b>\n",
    "    \n",
    "Построение таблицы data в целом не требуется. Из этой таблицы берется только количество посетителей, которое можно взять напрямую из visitors.\n",
    "</div>"
   ]
  },
  {
   "cell_type": "markdown",
   "metadata": {},
   "source": [
    "Так как признаки у нас измерены количественно и выборки независимы - **используем для расчета статистической значимости критерий Манна-Уитни.**"
   ]
  },
  {
   "cell_type": "markdown",
   "metadata": {},
   "source": [
    "<div class=\"alert alert-danger\">\n",
    "    <b>❌ Комментарий ревьюера:</b>\n",
    "    \n",
    "Укажи, пожалуйста, в гипотезах какой показатель здесь проверяется. Средний чек или количество заказов?\n",
    "</div>"
   ]
  },
  {
   "cell_type": "markdown",
   "metadata": {},
   "source": [
    "<div class=\"alert alert-info\">\n",
    "<b> Комментарий студента</b>\n",
    "\n",
    "Добавил везде формулировку гипотез\n",
    "</div>"
   ]
  },
  {
   "cell_type": "markdown",
   "metadata": {},
   "source": [
    "\n",
    "H0: группы статистически единтичны в среднем количестве заказов на посетителя по «сырым» данным\n",
    "\n",
    "H1: группы статистически различны в среднем количестве заказов на посетителя по «сырым» данным"
   ]
  },
  {
   "cell_type": "markdown",
   "metadata": {},
   "source": [
    "<div class=\"alert alert-success\">\n",
    "    <b>✅ Комментарий ревьюера V2:</b>\n",
    "\n",
    "Теперь все корректно!\n",
    "</div>"
   ]
  },
  {
   "cell_type": "code",
   "execution_count": 323,
   "metadata": {},
   "outputs": [
    {
     "name": "stdout",
     "output_type": "stream",
     "text": [
      "P-value:0.01679\n",
      "\n",
      "Отвергаем нулевую гипотезу: между группами есть статистические различия в среднем количестве заказов на посетителя по «сырым» данным\n",
      "\n",
      "Относительное различие:0.146\n"
     ]
    }
   ],
   "source": [
    "alpha = 0.05  # критический уровень статистической значимости\n",
    "\n",
    "p_value = stats.mannwhitneyu(sampleA, sampleB)[1]\n",
    "\n",
    "print(\"P-value:{0:.5f}\".format(p_value))\n",
    "print()\n",
    "\n",
    "if p_value < alpha:\n",
    "    print('Отвергаем нулевую гипотезу: между группами есть статистические различия в среднем количестве заказов на посетителя по «сырым» данным')\n",
    "else:\n",
    "    print('Не получилось отвергнуть нулевую гипотезу, статистически значимых различий  в среднем количестве заказов на посетителя по «сырым» данным между группами нет') \n",
    "print()\n",
    "\n",
    "print(\"Относительное различие:{0:.3f}\".format((data['ordersPerDateB'].sum()/data['visitorsPerDateB'].sum())/(data['ordersPerDateA'].sum()/data['visitorsPerDateA'].sum())-1))\n",
    "    "
   ]
  },
  {
   "cell_type": "markdown",
   "metadata": {},
   "source": [
    "По результатам теста на \"сырых\" данных получилось, что выборки различны. \n",
    "\n",
    "**Есть статистически значимый рост среднего количества заказов на посетителя в группе В по отношению к группе А. \n",
    "Рост составляет 14,6%.**"
   ]
  },
  {
   "cell_type": "markdown",
   "metadata": {},
   "source": [
    "<div class=\"alert alert-success\">\n",
    "    <b>✅ Комментарий ревьюера:</b>\n",
    "\n",
    "Принято!\n",
    "</div>"
   ]
  },
  {
   "cell_type": "markdown",
   "metadata": {},
   "source": [
    "### Статистическая значимость различий в среднем чеке заказа между группами по «сырым» данным"
   ]
  },
  {
   "cell_type": "code",
   "execution_count": 324,
   "metadata": {},
   "outputs": [
    {
     "name": "stdout",
     "output_type": "stream",
     "text": [
      "p-значение:  0.0\n",
      "Отвергаем нулевую гипотезу: распределение не нормально\n"
     ]
    }
   ],
   "source": [
    "alpha = 0.05  # критический уровень статистической значимости\n",
    "\n",
    "results = stats.shapiro(sampleA)\n",
    "p_value = results[\n",
    "    1\n",
    "]  # второе значение в массиве результатов (с индексом 1) - p-value\n",
    "\n",
    "print('p-значение: ', p_value)\n",
    "\n",
    "if p_value < alpha:\n",
    "    print('Отвергаем нулевую гипотезу: распределение не нормально')\n",
    "else:\n",
    "    print('Не получилось отвергнуть нулевую гипотезу, всё нормально') "
   ]
  },
  {
   "cell_type": "markdown",
   "metadata": {},
   "source": [
    "<div class=\"alert alert-danger\">\n",
    "    <b>❌ Комментарий ревьюера:</b>\n",
    "    \n",
    "Сформулируй, пожалуйста, гипотезы.\n",
    "</div>"
   ]
  },
  {
   "cell_type": "markdown",
   "metadata": {},
   "source": [
    "<div class=\"alert alert-info\">\n",
    "<b> Комментарий студента</b>\n",
    "\n",
    "Сформулировал гипотезы\n",
    "</div>"
   ]
  },
  {
   "cell_type": "markdown",
   "metadata": {},
   "source": [
    "H0: группы статистически единтичны в размере среднего чека по «сырым» данным\n",
    "\n",
    "H1: группы статистически различны в размере среднего чека по «сырым» данным"
   ]
  },
  {
   "cell_type": "markdown",
   "metadata": {},
   "source": [
    "<div class=\"alert alert-success\">\n",
    "    <b>✅ Комментарий ревьюера V2:</b>\n",
    "\n",
    "Принято!\n",
    "</div>"
   ]
  },
  {
   "cell_type": "code",
   "execution_count": 325,
   "metadata": {},
   "outputs": [
    {
     "name": "stdout",
     "output_type": "stream",
     "text": [
      "P-value:0.729\n",
      "\n",
      "Не получилось отвергнуть нулевую гипотезу, статистически значимых различий в размере среднего чека по «сырым» данным между группами нет\n",
      "\n",
      "Относительное различие:0.259\n"
     ]
    }
   ],
   "source": [
    "alpha = 0.05  # критический уровень статистической значимости\n",
    "\n",
    "p_value = stats.mannwhitneyu(orders[orders['group']=='A']['revenue'], orders[orders['group']=='B']['revenue'])[1]\n",
    "\n",
    "print('P-value:{0:.3f}'.format(p_value))\n",
    "print()\n",
    "if p_value < alpha:\n",
    "    print('Отвергаем нулевую гипотезу: между группами есть статистические различия в размере среднего чека по «сырым» данным')\n",
    "else:\n",
    "    print('Не получилось отвергнуть нулевую гипотезу, статистически значимых различий в размере среднего чека по «сырым» данным между группами нет') \n",
    "print()\n",
    "print('Относительное различие:{0:.3f}'.format(orders[orders['group']=='B']['revenue'].mean()/orders[orders['group']=='A']['revenue'].mean()-1)) "
   ]
  },
  {
   "cell_type": "markdown",
   "metadata": {},
   "source": [
    "**По результатам теста на \"сырых\" данных получилось, что статистических различий между выборками нет.**\n",
    "\n",
    "\n",
    "Однако относительное различие между группами в среднем размере чека на \"сырых\" данных составляет 25,9%.\n",
    "\n"
   ]
  },
  {
   "cell_type": "markdown",
   "metadata": {},
   "source": [
    "<div class=\"alert alert-success\">\n",
    "    <b>✅ Комментарий ревьюера:</b>\n",
    "\n",
    "Все верно!\n",
    "</div>"
   ]
  },
  {
   "cell_type": "markdown",
   "metadata": {},
   "source": [
    "### Статистическая значимость различий в среднем количестве заказов на посетителя между группами по «очищенным» данным"
   ]
  },
  {
   "cell_type": "code",
   "execution_count": 326,
   "metadata": {},
   "outputs": [
    {
     "name": "stdout",
     "output_type": "stream",
     "text": [
      "1099    148427295\n",
      "18      199603092\n",
      "928     204675465\n",
      "23      237748145\n",
      "37      249864742\n",
      "Name: visitor_id, dtype: int64\n"
     ]
    }
   ],
   "source": [
    "# подготовим список id посетителей с количеством заказов больше 2 и стоимостью больше 28000\n",
    "usersWithManyOrders = pd.concat(\n",
    "    [\n",
    "        ordersByUsersA[ordersByUsersA['orders'] > 2]['visitor_id'],\n",
    "        ordersByUsersB[ordersByUsersB['orders'] > 2]['visitor_id'],\n",
    "    ],\n",
    "    axis=0,\n",
    ")\n",
    "\n",
    "usersWithExpensiveOrders = orders[orders['revenue'] > 28000]['visitor_id']\n",
    "\n",
    "abnormalUsers = (\n",
    "    pd.concat([usersWithManyOrders, usersWithExpensiveOrders], axis=0)\n",
    "    .drop_duplicates()\n",
    "    .sort_values()\n",
    ")\n",
    "print(abnormalUsers.head())"
   ]
  },
  {
   "cell_type": "code",
   "execution_count": 327,
   "metadata": {},
   "outputs": [],
   "source": [
    "# подготовим отфильтрованные выборки\n",
    "sampleAFiltered = pd.concat(\n",
    "    [\n",
    "        ordersByUsersA[\n",
    "            np.logical_not(ordersByUsersA['visitor_id'].isin(abnormalUsers))\n",
    "        ]['orders'],\n",
    "        pd.Series(\n",
    "            0,\n",
    "            index=np.arange(\n",
    "                data['visitorsPerDateA'].sum() - len(ordersByUsersA['orders'])\n",
    "            ),\n",
    "            name='orders',\n",
    "        ),\n",
    "    ],\n",
    "    axis=0,\n",
    ")\n",
    "\n",
    "sampleBFiltered = pd.concat(\n",
    "    [\n",
    "        ordersByUsersB[\n",
    "            np.logical_not(ordersByUsersB['visitor_id'].isin(abnormalUsers))\n",
    "        ]['orders'],\n",
    "        pd.Series(\n",
    "            0,\n",
    "            index=np.arange(\n",
    "                data['visitorsPerDateB'].sum() - len(ordersByUsersB['orders'])\n",
    "            ),\n",
    "            name='orders',\n",
    "        ),\n",
    "    ],\n",
    "    axis=0,\n",
    ") \n"
   ]
  },
  {
   "cell_type": "markdown",
   "metadata": {},
   "source": [
    "<div class=\"alert alert-danger\">\n",
    "    <b>❌ Комментарий ревьюера:</b>\n",
    "    \n",
    "При каждой проверке обязательно указывать проверяемые гипотезы. Чтобы гипотезы не повторялись полностью, в тексте гипотезы можно указать по каким данным (\"сырым\" или \"отфильтрованным\") идет проверка.\n",
    "    \n",
    "Сформулируй, пожалуйста, гипотезы здесь и в следующей проверке.\n",
    "</div>"
   ]
  },
  {
   "cell_type": "markdown",
   "metadata": {},
   "source": [
    "<div class=\"alert alert-info\">\n",
    "<b> Комментарий студента</b>\n",
    "\n",
    "Сформулировал гипотезы\n",
    "</div>"
   ]
  },
  {
   "cell_type": "markdown",
   "metadata": {},
   "source": [
    "H0: группы статистически единтичны в среднем количестве заказов на посетителя по «очищенным» данным\n",
    "\n",
    "H1: группы статистически различны в среднем количестве заказов на посетителя по «очищенным» данным"
   ]
  },
  {
   "cell_type": "markdown",
   "metadata": {},
   "source": [
    "<div class=\"alert alert-success\">\n",
    "    <b>✅ Комментарий ревьюера V2:</b>\n",
    "\n",
    "Принято!\n",
    "</div>"
   ]
  },
  {
   "cell_type": "code",
   "execution_count": 328,
   "metadata": {},
   "outputs": [
    {
     "name": "stdout",
     "output_type": "stream",
     "text": [
      "P-value:0.01304\n",
      "\n",
      "Отвергаем нулевую гипотезу: между группами есть статистические различия\n",
      "\n",
      "Относительное различие:0.173\n"
     ]
    }
   ],
   "source": [
    "alpha = 0.05  # критический уровень статистической значимости\n",
    "\n",
    "p_value = stats.mannwhitneyu(sampleAFiltered, sampleBFiltered)[1]\n",
    "\n",
    "print(\"P-value:{0:.5f}\".format(p_value))\n",
    "print()\n",
    "\n",
    "if p_value < alpha:\n",
    "    print('Отвергаем нулевую гипотезу: между группами есть статистические различия')\n",
    "else:\n",
    "    print('Не получилось отвергнуть нулевую гипотезу, статистически значимых различий между группами нет') \n",
    "print()\n",
    "\n",
    "print(\"Относительное различие:{0:.3f}\".format(sampleBFiltered.mean()/sampleAFiltered.mean()-1))\n",
    " "
   ]
  },
  {
   "cell_type": "markdown",
   "metadata": {},
   "source": [
    "<div class=\"alert alert-danger\">\n",
    "    <b>❌ Комментарий ревьюера:</b>\n",
    "    \n",
    "`Относительное различие` высчитано не совсем корректно (заметь, результат такой же как в проверке по сырым данным). Перепроверь, пожалуйста, код. \n",
    "</div>"
   ]
  },
  {
   "cell_type": "markdown",
   "metadata": {},
   "source": [
    "\n",
    "<div class=\"alert alert-info\">\n",
    "<b> Комментарий студента</b>\n",
    "\n",
    "Исправил расчет относительного различия\n",
    "</div>"
   ]
  },
  {
   "cell_type": "markdown",
   "metadata": {},
   "source": [
    "По результатам теста на \"очищеных\" данных получилось, что выборки различны. \n",
    "\n",
    "**Есть статистически значимый рост среднего количества заказов на посетителя в группе В по отношению к группе А. \n",
    "Рост составляет 17,3%.**\n",
    "\n"
   ]
  },
  {
   "cell_type": "markdown",
   "metadata": {},
   "source": [
    "<div class=\"alert alert-success\">\n",
    "    <b>✅ Комментарий ревьюера V2:</b>\n",
    "\n",
    "Принято!\n",
    "</div>"
   ]
  },
  {
   "cell_type": "markdown",
   "metadata": {},
   "source": [
    "### Статистическую значимость различий в среднем чеке заказа между группами по «очищенным» данным"
   ]
  },
  {
   "cell_type": "markdown",
   "metadata": {},
   "source": [
    "<div class=\"alert alert-danger\">\n",
    "    <b>❌ Комментарий ревьюера:</b>\n",
    "    \n",
    "Здесь также необходимо указать гипотезы.\n",
    "</div>"
   ]
  },
  {
   "cell_type": "markdown",
   "metadata": {},
   "source": [
    "<div class=\"alert alert-info\">\n",
    "<b> Комментарий студента</b>\n",
    "\n",
    "Указал гипотезы\n",
    "</div>"
   ]
  },
  {
   "cell_type": "markdown",
   "metadata": {},
   "source": [
    "H0: группы статистически единтичны в размере среднего чека по «очищенным» данным\n",
    "\n",
    "H1: группы статистически различны в размере среднего чека по «очищенным» данным"
   ]
  },
  {
   "cell_type": "markdown",
   "metadata": {},
   "source": [
    "<div class=\"alert alert-success\">\n",
    "    <b>✅ Комментарий ревьюера V2:</b>\n",
    "\n",
    "Спасибо!\n",
    "</div>"
   ]
  },
  {
   "cell_type": "code",
   "execution_count": 329,
   "metadata": {
    "scrolled": true
   },
   "outputs": [
    {
     "name": "stdout",
     "output_type": "stream",
     "text": [
      "P-value:0.738\n",
      "\n",
      "Не получилось отвергнуть нулевую гипотезу, статистически значимых различий между группами нет\n",
      "\n",
      "Относительное различие:-0.020\n"
     ]
    }
   ],
   "source": [
    "alpha = 0.05  # критический уровень статистической значимости\n",
    "\n",
    "p_value =  stats.mannwhitneyu(\n",
    "            orders[\n",
    "                np.logical_and(\n",
    "                    orders['group'] == 'A',\n",
    "                    np.logical_not(orders['visitor_id'].isin(abnormalUsers)),\n",
    "                )\n",
    "            ]['revenue'],\n",
    "            orders[\n",
    "                np.logical_and(\n",
    "                    orders['group'] == 'B',\n",
    "                    np.logical_not(orders['visitor_id'].isin(abnormalUsers)),\n",
    "                )\n",
    "            ]['revenue'],\n",
    "        )[1]\n",
    "\n",
    "\n",
    "print(\n",
    "    'P-value:{0:.3f}'.format(p_value\n",
    "       \n",
    "    )\n",
    ")\n",
    "print()\n",
    "\n",
    "if p_value < alpha:\n",
    "    print('Отвергаем нулевую гипотезу: между группами есть статистические различия')\n",
    "else:\n",
    "    print('Не получилось отвергнуть нулевую гипотезу, статистически значимых различий между группами нет') \n",
    "print()\n",
    "print(\n",
    "    \"Относительное различие:{0:.3f}\".format(\n",
    "        orders[\n",
    "            np.logical_and(\n",
    "                orders['group'] == 'B',\n",
    "                np.logical_not(orders['visitor_id'].isin(abnormalUsers)),\n",
    "            )\n",
    "        ]['revenue'].mean()\n",
    "        / orders[\n",
    "            np.logical_and(\n",
    "                orders['group'] == 'A',\n",
    "                np.logical_not(orders['visitor_id'].isin(abnormalUsers)),\n",
    "            )\n",
    "        ]['revenue'].mean()\n",
    "        - 1\n",
    "    )\n",
    ") \n",
    "\n",
    "\n"
   ]
  },
  {
   "cell_type": "markdown",
   "metadata": {},
   "source": [
    "**По результатам теста на \"очищенных\" данных получилось, что статистических различий между выборками нет.**\n",
    "\n",
    "\n",
    "Однако относительное различие между группами в среднем размере чека на \"очищенных\" данных составляет -2%. Это похоже на правду и дополнительно подтверждает, что **по результатам АБ теста изменений в сумме среднего чека не произошло.** \n",
    "\n",
    "На сильное относительное различие при оценке на \"сырых\" данных повлияли выбросы."
   ]
  },
  {
   "cell_type": "markdown",
   "metadata": {},
   "source": [
    "<div class=\"alert alert-success\">\n",
    "    <b>✅ Комментарий ревьюера:</b>\n",
    "\n",
    "Вывод принят!\n",
    "</div>"
   ]
  },
  {
   "cell_type": "markdown",
   "metadata": {},
   "source": [
    "## Вывод"
   ]
  },
  {
   "cell_type": "markdown",
   "metadata": {},
   "source": [
    "- **Есть статистические различия по среднему количеству заказов на посетителя, как по сырым, так и по очищенным данным.** Группа B лучше на 14,6%\n",
    "\n",
    "- **Нет статистически значимых различий между группами в размере среднего чека.**\n",
    "\n",
    "- **График различия среднего количества заказов между группами сообщает, что результаты группы B лучше группы A и метрика к концу теста устойчива.**\n",
    "\n",
    "- График различия среднего чека говорит о том, что результаты группы B значительно лучше группы А. Но на графике явно заметно влияние нескольких крупных заказов, выбросов. Из отсутствия статистических различий по размеру среднего чека  и относительного различия в  2% можно сделать вывод, что **различие между группами по размеру среднего чека стремиться к нулю.**\n",
    "\n",
    "\n",
    "***Тест можно остановить, зафиксировав победу группы B.***\n",
    "\n",
    "***Среднеее количество заказов на посетителя выросло на 17,3% при неизменном чеке.***\n"
   ]
  },
  {
   "cell_type": "markdown",
   "metadata": {},
   "source": [
    "<div class=\"alert alert-success\">\n",
    "    <b>✅ Комментарий ревьюера:</b>\n",
    "\n",
    "Вывод принят!\n",
    "</div>"
   ]
  },
  {
   "cell_type": "markdown",
   "metadata": {},
   "source": [
    "<div class=\"alert alert-success\">\n",
    "    <b>✅ Комментарий ревьюера V2:</b>\n",
    "\n",
    "Проект принят! 🎉\n",
    "    \n",
    "Успехов в дальнейшем обучении!\n",
    "</div>"
   ]
  },
  {
   "cell_type": "code",
   "execution_count": null,
   "metadata": {},
   "outputs": [],
   "source": []
  }
 ],
 "metadata": {
  "ExecuteTimeLog": [
   {
    "duration": 1331,
    "start_time": "2023-02-22T16:38:51.012Z"
   },
   {
    "duration": 5,
    "start_time": "2023-02-22T16:38:52.345Z"
   },
   {
    "duration": 84,
    "start_time": "2023-02-22T16:38:52.352Z"
   },
   {
    "duration": 102,
    "start_time": "2023-02-22T16:38:52.439Z"
   },
   {
    "duration": 79,
    "start_time": "2023-02-22T16:38:52.543Z"
   },
   {
    "duration": 17,
    "start_time": "2023-02-22T16:38:52.624Z"
   },
   {
    "duration": 14,
    "start_time": "2023-02-22T16:38:52.643Z"
   },
   {
    "duration": 25,
    "start_time": "2023-02-22T16:38:52.659Z"
   },
   {
    "duration": 14,
    "start_time": "2023-02-22T16:38:52.687Z"
   },
   {
    "duration": 15,
    "start_time": "2023-02-22T16:38:52.705Z"
   },
   {
    "duration": 12,
    "start_time": "2023-02-22T16:38:52.721Z"
   },
   {
    "duration": 14,
    "start_time": "2023-02-22T16:38:52.735Z"
   },
   {
    "duration": 8,
    "start_time": "2023-02-22T16:38:52.751Z"
   },
   {
    "duration": 8,
    "start_time": "2023-02-22T16:38:52.761Z"
   },
   {
    "duration": 5,
    "start_time": "2023-02-22T16:38:52.770Z"
   },
   {
    "duration": 17,
    "start_time": "2023-02-22T16:38:52.776Z"
   },
   {
    "duration": 34,
    "start_time": "2023-02-22T16:38:52.794Z"
   },
   {
    "duration": 15,
    "start_time": "2023-02-22T16:38:52.830Z"
   },
   {
    "duration": 8,
    "start_time": "2023-02-22T16:38:52.847Z"
   },
   {
    "duration": 11,
    "start_time": "2023-02-22T16:38:52.857Z"
   },
   {
    "duration": 260,
    "start_time": "2023-02-22T16:38:52.869Z"
   },
   {
    "duration": 242,
    "start_time": "2023-02-22T16:38:53.131Z"
   },
   {
    "duration": 662,
    "start_time": "2023-02-22T16:38:53.374Z"
   },
   {
    "duration": 9,
    "start_time": "2023-02-22T16:38:54.038Z"
   },
   {
    "duration": 13,
    "start_time": "2023-02-22T16:38:54.050Z"
   },
   {
    "duration": 343,
    "start_time": "2023-02-22T16:38:54.065Z"
   },
   {
    "duration": 422,
    "start_time": "2023-02-22T16:38:54.410Z"
   },
   {
    "duration": 319,
    "start_time": "2023-02-22T16:38:54.835Z"
   },
   {
    "duration": 514,
    "start_time": "2023-02-22T16:38:55.155Z"
   },
   {
    "duration": 480,
    "start_time": "2023-02-22T16:38:55.671Z"
   },
   {
    "duration": 428,
    "start_time": "2023-02-22T16:38:56.153Z"
   },
   {
    "duration": 11,
    "start_time": "2023-02-22T16:38:56.582Z"
   },
   {
    "duration": 203,
    "start_time": "2023-02-22T16:38:56.595Z"
   },
   {
    "duration": 5,
    "start_time": "2023-02-22T16:38:56.800Z"
   },
   {
    "duration": 234,
    "start_time": "2023-02-22T16:38:56.807Z"
   },
   {
    "duration": 5,
    "start_time": "2023-02-22T16:38:57.043Z"
   },
   {
    "duration": 377,
    "start_time": "2023-02-22T16:38:57.050Z"
   },
   {
    "duration": 36,
    "start_time": "2023-02-22T16:38:57.428Z"
   },
   {
    "duration": 7,
    "start_time": "2023-02-22T16:38:57.466Z"
   },
   {
    "duration": 15,
    "start_time": "2023-02-22T16:38:57.475Z"
   },
   {
    "duration": 39,
    "start_time": "2023-02-22T16:38:57.492Z"
   },
   {
    "duration": 11,
    "start_time": "2023-02-22T16:38:57.533Z"
   },
   {
    "duration": 37,
    "start_time": "2023-02-22T16:38:57.546Z"
   },
   {
    "duration": 15,
    "start_time": "2023-02-22T16:38:57.585Z"
   },
   {
    "duration": 50,
    "start_time": "2023-02-24T14:53:03.719Z"
   },
   {
    "duration": 1389,
    "start_time": "2023-02-24T14:53:07.164Z"
   },
   {
    "duration": 4,
    "start_time": "2023-02-24T14:53:08.555Z"
   },
   {
    "duration": 118,
    "start_time": "2023-02-24T14:53:08.561Z"
   },
   {
    "duration": 127,
    "start_time": "2023-02-24T14:53:08.681Z"
   },
   {
    "duration": 91,
    "start_time": "2023-02-24T14:53:08.810Z"
   },
   {
    "duration": 12,
    "start_time": "2023-02-24T14:53:08.902Z"
   },
   {
    "duration": 13,
    "start_time": "2023-02-24T14:53:08.916Z"
   },
   {
    "duration": 7,
    "start_time": "2023-02-24T14:53:08.931Z"
   },
   {
    "duration": 9,
    "start_time": "2023-02-24T14:53:08.939Z"
   },
   {
    "duration": 9,
    "start_time": "2023-02-24T14:53:08.951Z"
   },
   {
    "duration": 12,
    "start_time": "2023-02-24T14:53:08.961Z"
   },
   {
    "duration": 15,
    "start_time": "2023-02-24T14:53:08.974Z"
   },
   {
    "duration": 12,
    "start_time": "2023-02-24T14:53:08.990Z"
   },
   {
    "duration": 4,
    "start_time": "2023-02-24T14:53:09.003Z"
   },
   {
    "duration": 4,
    "start_time": "2023-02-24T14:53:09.009Z"
   },
   {
    "duration": 10,
    "start_time": "2023-02-24T14:53:09.014Z"
   },
   {
    "duration": 22,
    "start_time": "2023-02-24T14:53:09.026Z"
   },
   {
    "duration": 16,
    "start_time": "2023-02-24T14:53:09.050Z"
   },
   {
    "duration": 7,
    "start_time": "2023-02-24T14:53:09.068Z"
   },
   {
    "duration": 4,
    "start_time": "2023-02-24T14:53:09.077Z"
   },
   {
    "duration": 267,
    "start_time": "2023-02-24T14:53:09.083Z"
   },
   {
    "duration": 250,
    "start_time": "2023-02-24T14:53:09.352Z"
   },
   {
    "duration": 661,
    "start_time": "2023-02-24T14:53:09.604Z"
   },
   {
    "duration": 10,
    "start_time": "2023-02-24T14:53:10.267Z"
   },
   {
    "duration": 17,
    "start_time": "2023-02-24T14:55:02.266Z"
   },
   {
    "duration": 12,
    "start_time": "2023-02-24T14:55:41.561Z"
   },
   {
    "duration": 3,
    "start_time": "2023-02-24T14:55:44.261Z"
   },
   {
    "duration": 6,
    "start_time": "2023-02-24T14:55:44.267Z"
   },
   {
    "duration": 67,
    "start_time": "2023-02-24T14:55:44.275Z"
   },
   {
    "duration": 77,
    "start_time": "2023-02-24T14:55:44.344Z"
   },
   {
    "duration": 53,
    "start_time": "2023-02-24T14:55:44.422Z"
   },
   {
    "duration": 9,
    "start_time": "2023-02-24T14:55:44.476Z"
   },
   {
    "duration": 12,
    "start_time": "2023-02-24T14:55:44.487Z"
   },
   {
    "duration": 8,
    "start_time": "2023-02-24T14:55:44.500Z"
   },
   {
    "duration": 3,
    "start_time": "2023-02-24T14:55:44.512Z"
   },
   {
    "duration": 18,
    "start_time": "2023-02-24T14:55:44.516Z"
   },
   {
    "duration": 14,
    "start_time": "2023-02-24T14:55:44.536Z"
   },
   {
    "duration": 16,
    "start_time": "2023-02-24T14:55:44.551Z"
   },
   {
    "duration": 14,
    "start_time": "2023-02-24T14:55:44.569Z"
   },
   {
    "duration": 5,
    "start_time": "2023-02-24T14:55:44.585Z"
   },
   {
    "duration": 10,
    "start_time": "2023-02-24T14:55:44.592Z"
   },
   {
    "duration": 16,
    "start_time": "2023-02-24T14:55:44.604Z"
   },
   {
    "duration": 6,
    "start_time": "2023-02-24T14:55:44.622Z"
   },
   {
    "duration": 24,
    "start_time": "2023-02-24T14:55:44.630Z"
   },
   {
    "duration": 7,
    "start_time": "2023-02-24T14:55:44.656Z"
   },
   {
    "duration": 7,
    "start_time": "2023-02-24T14:55:44.665Z"
   },
   {
    "duration": 251,
    "start_time": "2023-02-24T14:55:44.674Z"
   },
   {
    "duration": 241,
    "start_time": "2023-02-24T14:55:44.927Z"
   },
   {
    "duration": 688,
    "start_time": "2023-02-24T14:55:45.170Z"
   },
   {
    "duration": 11,
    "start_time": "2023-02-24T14:55:45.862Z"
   },
   {
    "duration": 17,
    "start_time": "2023-02-24T14:55:45.876Z"
   },
   {
    "duration": 14,
    "start_time": "2023-02-24T14:55:48.194Z"
   },
   {
    "duration": 11,
    "start_time": "2023-02-24T14:56:25.605Z"
   },
   {
    "duration": 12,
    "start_time": "2023-02-24T14:56:28.944Z"
   },
   {
    "duration": 11,
    "start_time": "2023-02-24T14:56:38.914Z"
   },
   {
    "duration": 13,
    "start_time": "2023-02-24T14:56:43.955Z"
   },
   {
    "duration": 4,
    "start_time": "2023-02-24T14:58:07.459Z"
   },
   {
    "duration": 9,
    "start_time": "2023-02-24T14:58:07.465Z"
   },
   {
    "duration": 62,
    "start_time": "2023-02-24T14:58:07.476Z"
   },
   {
    "duration": 70,
    "start_time": "2023-02-24T14:58:07.539Z"
   },
   {
    "duration": 52,
    "start_time": "2023-02-24T14:58:07.611Z"
   },
   {
    "duration": 9,
    "start_time": "2023-02-24T14:58:07.664Z"
   },
   {
    "duration": 12,
    "start_time": "2023-02-24T14:58:07.674Z"
   },
   {
    "duration": 9,
    "start_time": "2023-02-24T14:58:07.689Z"
   },
   {
    "duration": 5,
    "start_time": "2023-02-24T14:58:07.700Z"
   },
   {
    "duration": 10,
    "start_time": "2023-02-24T14:58:07.707Z"
   },
   {
    "duration": 15,
    "start_time": "2023-02-24T14:58:07.719Z"
   },
   {
    "duration": 16,
    "start_time": "2023-02-24T14:58:07.736Z"
   },
   {
    "duration": 107,
    "start_time": "2023-02-24T14:58:07.753Z"
   },
   {
    "duration": 5,
    "start_time": "2023-02-24T14:58:07.863Z"
   },
   {
    "duration": 5,
    "start_time": "2023-02-24T14:58:07.869Z"
   },
   {
    "duration": 10,
    "start_time": "2023-02-24T14:58:07.876Z"
   },
   {
    "duration": 7,
    "start_time": "2023-02-24T14:58:07.888Z"
   },
   {
    "duration": 14,
    "start_time": "2023-02-24T14:58:07.896Z"
   },
   {
    "duration": 7,
    "start_time": "2023-02-24T14:58:07.912Z"
   },
   {
    "duration": 5,
    "start_time": "2023-02-24T14:58:07.945Z"
   },
   {
    "duration": 247,
    "start_time": "2023-02-24T14:58:07.951Z"
   },
   {
    "duration": 250,
    "start_time": "2023-02-24T14:58:08.200Z"
   },
   {
    "duration": 693,
    "start_time": "2023-02-24T14:58:08.451Z"
   },
   {
    "duration": 13,
    "start_time": "2023-02-24T14:58:09.146Z"
   },
   {
    "duration": 12,
    "start_time": "2023-02-24T14:58:09.160Z"
   },
   {
    "duration": 305,
    "start_time": "2023-02-24T14:58:09.174Z"
   },
   {
    "duration": 367,
    "start_time": "2023-02-24T14:58:09.480Z"
   },
   {
    "duration": 3,
    "start_time": "2023-02-24T14:58:45.409Z"
   },
   {
    "duration": 7,
    "start_time": "2023-02-24T14:58:45.414Z"
   },
   {
    "duration": 84,
    "start_time": "2023-02-24T14:58:45.423Z"
   },
   {
    "duration": 73,
    "start_time": "2023-02-24T14:58:45.509Z"
   },
   {
    "duration": 49,
    "start_time": "2023-02-24T14:58:45.584Z"
   },
   {
    "duration": 10,
    "start_time": "2023-02-24T14:58:45.634Z"
   },
   {
    "duration": 16,
    "start_time": "2023-02-24T14:58:45.646Z"
   },
   {
    "duration": 6,
    "start_time": "2023-02-24T14:58:45.664Z"
   },
   {
    "duration": 4,
    "start_time": "2023-02-24T14:58:45.672Z"
   },
   {
    "duration": 11,
    "start_time": "2023-02-24T14:58:45.678Z"
   },
   {
    "duration": 16,
    "start_time": "2023-02-24T14:58:45.691Z"
   },
   {
    "duration": 13,
    "start_time": "2023-02-24T14:58:45.709Z"
   },
   {
    "duration": 21,
    "start_time": "2023-02-24T14:58:45.724Z"
   },
   {
    "duration": 5,
    "start_time": "2023-02-24T14:58:45.747Z"
   },
   {
    "duration": 6,
    "start_time": "2023-02-24T14:58:45.753Z"
   },
   {
    "duration": 9,
    "start_time": "2023-02-24T14:58:45.761Z"
   },
   {
    "duration": 6,
    "start_time": "2023-02-24T14:58:45.772Z"
   },
   {
    "duration": 12,
    "start_time": "2023-02-24T14:58:45.779Z"
   },
   {
    "duration": 6,
    "start_time": "2023-02-24T14:58:45.793Z"
   },
   {
    "duration": 7,
    "start_time": "2023-02-24T14:58:45.800Z"
   },
   {
    "duration": 266,
    "start_time": "2023-02-24T14:58:45.808Z"
   },
   {
    "duration": 244,
    "start_time": "2023-02-24T14:58:46.076Z"
   },
   {
    "duration": 662,
    "start_time": "2023-02-24T14:58:46.322Z"
   },
   {
    "duration": 13,
    "start_time": "2023-02-24T14:58:46.987Z"
   },
   {
    "duration": 15,
    "start_time": "2023-02-24T14:58:47.002Z"
   },
   {
    "duration": 323,
    "start_time": "2023-02-24T14:58:47.019Z"
   },
   {
    "duration": 317,
    "start_time": "2023-02-24T14:58:47.344Z"
   },
   {
    "duration": 392,
    "start_time": "2023-02-24T14:58:47.663Z"
   },
   {
    "duration": 3,
    "start_time": "2023-02-24T15:11:40.497Z"
   },
   {
    "duration": 8,
    "start_time": "2023-02-24T15:11:40.502Z"
   },
   {
    "duration": 65,
    "start_time": "2023-02-24T15:11:40.512Z"
   },
   {
    "duration": 72,
    "start_time": "2023-02-24T15:11:40.578Z"
   },
   {
    "duration": 47,
    "start_time": "2023-02-24T15:11:40.652Z"
   },
   {
    "duration": 8,
    "start_time": "2023-02-24T15:11:40.700Z"
   },
   {
    "duration": 11,
    "start_time": "2023-02-24T15:11:40.710Z"
   },
   {
    "duration": 7,
    "start_time": "2023-02-24T15:11:40.723Z"
   },
   {
    "duration": 5,
    "start_time": "2023-02-24T15:11:40.731Z"
   },
   {
    "duration": 10,
    "start_time": "2023-02-24T15:11:40.738Z"
   },
   {
    "duration": 12,
    "start_time": "2023-02-24T15:11:40.749Z"
   },
   {
    "duration": 11,
    "start_time": "2023-02-24T15:11:40.763Z"
   },
   {
    "duration": 9,
    "start_time": "2023-02-24T15:11:40.776Z"
   },
   {
    "duration": 5,
    "start_time": "2023-02-24T15:11:40.788Z"
   },
   {
    "duration": 6,
    "start_time": "2023-02-24T15:11:40.795Z"
   },
   {
    "duration": 9,
    "start_time": "2023-02-24T15:11:40.803Z"
   },
   {
    "duration": 6,
    "start_time": "2023-02-24T15:11:40.814Z"
   },
   {
    "duration": 10,
    "start_time": "2023-02-24T15:11:40.846Z"
   },
   {
    "duration": 10,
    "start_time": "2023-02-24T15:11:40.857Z"
   },
   {
    "duration": 6,
    "start_time": "2023-02-24T15:11:40.868Z"
   },
   {
    "duration": 243,
    "start_time": "2023-02-24T15:11:40.875Z"
   },
   {
    "duration": 313,
    "start_time": "2023-02-24T15:11:41.120Z"
   },
   {
    "duration": 671,
    "start_time": "2023-02-24T15:11:41.435Z"
   },
   {
    "duration": 11,
    "start_time": "2023-02-24T15:11:42.108Z"
   },
   {
    "duration": 26,
    "start_time": "2023-02-24T15:11:42.120Z"
   },
   {
    "duration": 282,
    "start_time": "2023-02-24T15:11:42.147Z"
   },
   {
    "duration": 304,
    "start_time": "2023-02-24T15:11:42.431Z"
   },
   {
    "duration": 288,
    "start_time": "2023-02-24T15:11:42.737Z"
   },
   {
    "duration": 477,
    "start_time": "2023-02-24T15:11:43.027Z"
   },
   {
    "duration": 346,
    "start_time": "2023-02-24T15:11:43.506Z"
   },
   {
    "duration": 422,
    "start_time": "2023-02-24T15:11:43.854Z"
   },
   {
    "duration": 10,
    "start_time": "2023-02-24T15:11:44.278Z"
   },
   {
    "duration": 209,
    "start_time": "2023-02-24T15:11:44.290Z"
   },
   {
    "duration": 4,
    "start_time": "2023-02-24T15:11:44.501Z"
   },
   {
    "duration": 304,
    "start_time": "2023-02-24T15:11:44.507Z"
   },
   {
    "duration": 179,
    "start_time": "2023-02-24T15:13:36.669Z"
   },
   {
    "duration": 206,
    "start_time": "2023-02-24T15:13:42.479Z"
   },
   {
    "duration": 202,
    "start_time": "2023-02-24T15:13:50.772Z"
   },
   {
    "duration": 193,
    "start_time": "2023-02-24T15:13:58.791Z"
   },
   {
    "duration": 196,
    "start_time": "2023-02-24T15:14:26.129Z"
   },
   {
    "duration": 4,
    "start_time": "2023-02-24T15:32:14.947Z"
   },
   {
    "duration": 20,
    "start_time": "2023-02-24T15:32:14.953Z"
   },
   {
    "duration": 109,
    "start_time": "2023-02-24T15:32:14.976Z"
   },
   {
    "duration": 77,
    "start_time": "2023-02-24T15:32:15.087Z"
   },
   {
    "duration": 57,
    "start_time": "2023-02-24T15:32:15.166Z"
   },
   {
    "duration": 8,
    "start_time": "2023-02-24T15:32:15.225Z"
   },
   {
    "duration": 15,
    "start_time": "2023-02-24T15:32:15.234Z"
   },
   {
    "duration": 9,
    "start_time": "2023-02-24T15:32:15.250Z"
   },
   {
    "duration": 5,
    "start_time": "2023-02-24T15:32:15.260Z"
   },
   {
    "duration": 11,
    "start_time": "2023-02-24T15:32:15.266Z"
   },
   {
    "duration": 17,
    "start_time": "2023-02-24T15:32:15.278Z"
   },
   {
    "duration": 12,
    "start_time": "2023-02-24T15:32:15.297Z"
   },
   {
    "duration": 11,
    "start_time": "2023-02-24T15:32:15.310Z"
   },
   {
    "duration": 4,
    "start_time": "2023-02-24T15:32:15.325Z"
   },
   {
    "duration": 7,
    "start_time": "2023-02-24T15:32:15.345Z"
   },
   {
    "duration": 13,
    "start_time": "2023-02-24T15:32:15.353Z"
   },
   {
    "duration": 6,
    "start_time": "2023-02-24T15:32:15.368Z"
   },
   {
    "duration": 16,
    "start_time": "2023-02-24T15:32:15.376Z"
   },
   {
    "duration": 7,
    "start_time": "2023-02-24T15:32:15.394Z"
   },
   {
    "duration": 8,
    "start_time": "2023-02-24T15:32:15.403Z"
   },
   {
    "duration": 254,
    "start_time": "2023-02-24T15:32:15.413Z"
   },
   {
    "duration": 243,
    "start_time": "2023-02-24T15:32:15.669Z"
   },
   {
    "duration": 653,
    "start_time": "2023-02-24T15:32:15.913Z"
   },
   {
    "duration": 11,
    "start_time": "2023-02-24T15:32:16.568Z"
   },
   {
    "duration": 21,
    "start_time": "2023-02-24T15:32:16.581Z"
   },
   {
    "duration": 303,
    "start_time": "2023-02-24T15:32:16.603Z"
   },
   {
    "duration": 308,
    "start_time": "2023-02-24T15:32:16.907Z"
   },
   {
    "duration": 411,
    "start_time": "2023-02-24T15:32:17.217Z"
   },
   {
    "duration": 433,
    "start_time": "2023-02-24T15:32:17.630Z"
   },
   {
    "duration": 325,
    "start_time": "2023-02-24T15:32:18.065Z"
   },
   {
    "duration": 383,
    "start_time": "2023-02-24T15:32:18.392Z"
   },
   {
    "duration": 10,
    "start_time": "2023-02-24T15:32:18.776Z"
   },
   {
    "duration": 195,
    "start_time": "2023-02-24T15:32:18.788Z"
   },
   {
    "duration": 5,
    "start_time": "2023-02-24T15:32:18.984Z"
   },
   {
    "duration": 203,
    "start_time": "2023-02-24T15:32:18.990Z"
   },
   {
    "duration": 199,
    "start_time": "2023-02-24T15:32:19.195Z"
   },
   {
    "duration": 4,
    "start_time": "2023-02-24T15:32:19.396Z"
   },
   {
    "duration": 378,
    "start_time": "2023-02-24T15:32:19.401Z"
   },
   {
    "duration": 25,
    "start_time": "2023-02-24T15:32:25.389Z"
   },
   {
    "duration": 11,
    "start_time": "2023-02-24T15:35:13.194Z"
   },
   {
    "duration": 3,
    "start_time": "2023-02-24T15:36:33.378Z"
   },
   {
    "duration": 4,
    "start_time": "2023-02-24T15:36:33.395Z"
   },
   {
    "duration": 101,
    "start_time": "2023-02-24T15:36:33.401Z"
   },
   {
    "duration": 72,
    "start_time": "2023-02-24T15:36:33.503Z"
   },
   {
    "duration": 53,
    "start_time": "2023-02-24T15:36:33.576Z"
   },
   {
    "duration": 9,
    "start_time": "2023-02-24T15:36:33.631Z"
   },
   {
    "duration": 12,
    "start_time": "2023-02-24T15:36:33.641Z"
   },
   {
    "duration": 7,
    "start_time": "2023-02-24T15:36:33.655Z"
   },
   {
    "duration": 5,
    "start_time": "2023-02-24T15:36:33.664Z"
   },
   {
    "duration": 11,
    "start_time": "2023-02-24T15:36:33.670Z"
   },
   {
    "duration": 13,
    "start_time": "2023-02-24T15:36:33.683Z"
   },
   {
    "duration": 13,
    "start_time": "2023-02-24T15:36:33.697Z"
   },
   {
    "duration": 7,
    "start_time": "2023-02-24T15:36:33.712Z"
   },
   {
    "duration": 26,
    "start_time": "2023-02-24T15:36:33.721Z"
   },
   {
    "duration": 3,
    "start_time": "2023-02-24T15:36:33.750Z"
   },
   {
    "duration": 13,
    "start_time": "2023-02-24T15:36:33.754Z"
   },
   {
    "duration": 8,
    "start_time": "2023-02-24T15:36:33.769Z"
   },
   {
    "duration": 12,
    "start_time": "2023-02-24T15:36:33.778Z"
   },
   {
    "duration": 8,
    "start_time": "2023-02-24T15:36:33.792Z"
   },
   {
    "duration": 6,
    "start_time": "2023-02-24T15:36:33.801Z"
   },
   {
    "duration": 257,
    "start_time": "2023-02-24T15:36:33.809Z"
   },
   {
    "duration": 243,
    "start_time": "2023-02-24T15:36:34.068Z"
   },
   {
    "duration": 755,
    "start_time": "2023-02-24T15:36:34.313Z"
   },
   {
    "duration": 12,
    "start_time": "2023-02-24T15:36:35.070Z"
   },
   {
    "duration": 17,
    "start_time": "2023-02-24T15:36:35.084Z"
   },
   {
    "duration": 303,
    "start_time": "2023-02-24T15:36:35.103Z"
   },
   {
    "duration": 322,
    "start_time": "2023-02-24T15:36:35.407Z"
   },
   {
    "duration": 330,
    "start_time": "2023-02-24T15:36:35.731Z"
   },
   {
    "duration": 399,
    "start_time": "2023-02-24T15:36:36.063Z"
   },
   {
    "duration": 334,
    "start_time": "2023-02-24T15:36:36.463Z"
   },
   {
    "duration": 398,
    "start_time": "2023-02-24T15:36:36.799Z"
   },
   {
    "duration": 10,
    "start_time": "2023-02-24T15:36:37.199Z"
   },
   {
    "duration": 194,
    "start_time": "2023-02-24T15:36:37.211Z"
   },
   {
    "duration": 4,
    "start_time": "2023-02-24T15:36:37.407Z"
   },
   {
    "duration": 216,
    "start_time": "2023-02-24T15:36:37.413Z"
   },
   {
    "duration": 205,
    "start_time": "2023-02-24T15:36:37.631Z"
   },
   {
    "duration": 9,
    "start_time": "2023-02-24T15:36:37.838Z"
   },
   {
    "duration": 389,
    "start_time": "2023-02-24T15:36:37.850Z"
   },
   {
    "duration": 24,
    "start_time": "2023-02-24T15:36:38.244Z"
   },
   {
    "duration": 5,
    "start_time": "2023-02-24T15:36:38.270Z"
   },
   {
    "duration": 15,
    "start_time": "2023-02-24T15:36:38.277Z"
   },
   {
    "duration": 9,
    "start_time": "2023-02-24T15:36:38.295Z"
   },
   {
    "duration": 10,
    "start_time": "2023-02-24T15:36:38.305Z"
   },
   {
    "duration": 51,
    "start_time": "2023-02-24T15:36:38.316Z"
   },
   {
    "duration": 15,
    "start_time": "2023-02-24T15:36:38.369Z"
   },
   {
    "duration": 24,
    "start_time": "2023-02-24T15:43:15.278Z"
   },
   {
    "duration": 3,
    "start_time": "2023-02-24T15:43:24.315Z"
   },
   {
    "duration": 3,
    "start_time": "2023-02-24T15:43:24.341Z"
   },
   {
    "duration": 62,
    "start_time": "2023-02-24T15:43:24.346Z"
   },
   {
    "duration": 69,
    "start_time": "2023-02-24T15:43:24.410Z"
   },
   {
    "duration": 47,
    "start_time": "2023-02-24T15:43:24.480Z"
   },
   {
    "duration": 8,
    "start_time": "2023-02-24T15:43:24.529Z"
   },
   {
    "duration": 12,
    "start_time": "2023-02-24T15:43:24.539Z"
   },
   {
    "duration": 9,
    "start_time": "2023-02-24T15:43:24.553Z"
   },
   {
    "duration": 5,
    "start_time": "2023-02-24T15:43:24.563Z"
   },
   {
    "duration": 15,
    "start_time": "2023-02-24T15:43:24.569Z"
   },
   {
    "duration": 10,
    "start_time": "2023-02-24T15:43:24.586Z"
   },
   {
    "duration": 12,
    "start_time": "2023-02-24T15:43:24.597Z"
   },
   {
    "duration": 16,
    "start_time": "2023-02-24T15:43:24.611Z"
   },
   {
    "duration": 18,
    "start_time": "2023-02-24T15:43:24.628Z"
   },
   {
    "duration": 6,
    "start_time": "2023-02-24T15:43:24.649Z"
   },
   {
    "duration": 10,
    "start_time": "2023-02-24T15:43:24.657Z"
   },
   {
    "duration": 5,
    "start_time": "2023-02-24T15:43:24.669Z"
   },
   {
    "duration": 12,
    "start_time": "2023-02-24T15:43:24.675Z"
   },
   {
    "duration": 8,
    "start_time": "2023-02-24T15:43:24.688Z"
   },
   {
    "duration": 11,
    "start_time": "2023-02-24T15:43:24.697Z"
   },
   {
    "duration": 252,
    "start_time": "2023-02-24T15:43:24.710Z"
   },
   {
    "duration": 246,
    "start_time": "2023-02-24T15:43:24.963Z"
   },
   {
    "duration": 777,
    "start_time": "2023-02-24T15:43:25.211Z"
   },
   {
    "duration": 18,
    "start_time": "2023-02-24T15:43:25.990Z"
   },
   {
    "duration": 34,
    "start_time": "2023-02-24T15:43:26.011Z"
   },
   {
    "duration": 352,
    "start_time": "2023-02-24T15:43:26.048Z"
   },
   {
    "duration": 320,
    "start_time": "2023-02-24T15:43:26.402Z"
   },
   {
    "duration": 310,
    "start_time": "2023-02-24T15:43:26.724Z"
   },
   {
    "duration": 428,
    "start_time": "2023-02-24T15:43:27.035Z"
   },
   {
    "duration": 344,
    "start_time": "2023-02-24T15:43:27.466Z"
   },
   {
    "duration": 475,
    "start_time": "2023-02-24T15:43:27.811Z"
   },
   {
    "duration": 11,
    "start_time": "2023-02-24T15:43:28.287Z"
   },
   {
    "duration": 203,
    "start_time": "2023-02-24T15:43:28.300Z"
   },
   {
    "duration": 4,
    "start_time": "2023-02-24T15:43:28.505Z"
   },
   {
    "duration": 215,
    "start_time": "2023-02-24T15:43:28.511Z"
   },
   {
    "duration": 202,
    "start_time": "2023-02-24T15:43:28.728Z"
   },
   {
    "duration": 14,
    "start_time": "2023-02-24T15:43:28.932Z"
   },
   {
    "duration": 365,
    "start_time": "2023-02-24T15:43:28.948Z"
   },
   {
    "duration": 31,
    "start_time": "2023-02-24T15:43:29.314Z"
   },
   {
    "duration": 6,
    "start_time": "2023-02-24T15:43:29.347Z"
   },
   {
    "duration": 15,
    "start_time": "2023-02-24T15:43:29.355Z"
   },
   {
    "duration": 9,
    "start_time": "2023-02-24T15:43:29.375Z"
   },
   {
    "duration": 7,
    "start_time": "2023-02-24T15:43:29.386Z"
   },
   {
    "duration": 56,
    "start_time": "2023-02-24T15:43:29.395Z"
   },
   {
    "duration": 16,
    "start_time": "2023-02-24T15:43:29.453Z"
   },
   {
    "duration": 16,
    "start_time": "2023-02-24T15:47:14.344Z"
   },
   {
    "duration": 3,
    "start_time": "2023-02-24T15:47:38.965Z"
   },
   {
    "duration": 15,
    "start_time": "2023-02-24T15:47:38.969Z"
   },
   {
    "duration": 80,
    "start_time": "2023-02-24T15:47:38.985Z"
   },
   {
    "duration": 71,
    "start_time": "2023-02-24T15:47:39.067Z"
   },
   {
    "duration": 72,
    "start_time": "2023-02-24T15:47:39.140Z"
   },
   {
    "duration": 7,
    "start_time": "2023-02-24T15:47:39.214Z"
   },
   {
    "duration": 23,
    "start_time": "2023-02-24T15:47:39.222Z"
   },
   {
    "duration": 20,
    "start_time": "2023-02-24T15:47:39.246Z"
   },
   {
    "duration": 29,
    "start_time": "2023-02-24T15:47:39.268Z"
   },
   {
    "duration": 18,
    "start_time": "2023-02-24T15:47:39.298Z"
   },
   {
    "duration": 13,
    "start_time": "2023-02-24T15:47:39.319Z"
   },
   {
    "duration": 20,
    "start_time": "2023-02-24T15:47:39.334Z"
   },
   {
    "duration": 12,
    "start_time": "2023-02-24T15:47:39.356Z"
   },
   {
    "duration": 16,
    "start_time": "2023-02-24T15:47:39.370Z"
   },
   {
    "duration": 15,
    "start_time": "2023-02-24T15:47:39.388Z"
   },
   {
    "duration": 19,
    "start_time": "2023-02-24T15:47:39.405Z"
   },
   {
    "duration": 12,
    "start_time": "2023-02-24T15:47:39.425Z"
   },
   {
    "duration": 43,
    "start_time": "2023-02-24T15:47:39.438Z"
   },
   {
    "duration": 19,
    "start_time": "2023-02-24T15:47:39.483Z"
   },
   {
    "duration": 13,
    "start_time": "2023-02-24T15:47:39.504Z"
   },
   {
    "duration": 316,
    "start_time": "2023-02-24T15:47:39.519Z"
   },
   {
    "duration": 240,
    "start_time": "2023-02-24T15:47:39.837Z"
   },
   {
    "duration": 727,
    "start_time": "2023-02-24T15:47:40.079Z"
   },
   {
    "duration": 15,
    "start_time": "2023-02-24T15:47:40.808Z"
   },
   {
    "duration": 28,
    "start_time": "2023-02-24T15:47:40.825Z"
   },
   {
    "duration": 291,
    "start_time": "2023-02-24T15:47:40.855Z"
   },
   {
    "duration": 337,
    "start_time": "2023-02-24T15:47:41.147Z"
   },
   {
    "duration": 327,
    "start_time": "2023-02-24T15:47:41.487Z"
   },
   {
    "duration": 428,
    "start_time": "2023-02-24T15:47:41.817Z"
   },
   {
    "duration": 335,
    "start_time": "2023-02-24T15:47:42.246Z"
   },
   {
    "duration": 391,
    "start_time": "2023-02-24T15:47:42.583Z"
   },
   {
    "duration": 12,
    "start_time": "2023-02-24T15:47:42.978Z"
   },
   {
    "duration": 210,
    "start_time": "2023-02-24T15:47:42.992Z"
   },
   {
    "duration": 4,
    "start_time": "2023-02-24T15:47:43.204Z"
   },
   {
    "duration": 212,
    "start_time": "2023-02-24T15:47:43.210Z"
   },
   {
    "duration": 307,
    "start_time": "2023-02-24T15:47:43.424Z"
   },
   {
    "duration": 13,
    "start_time": "2023-02-24T15:47:43.733Z"
   },
   {
    "duration": 389,
    "start_time": "2023-02-24T15:47:43.748Z"
   },
   {
    "duration": 27,
    "start_time": "2023-02-24T15:47:44.139Z"
   },
   {
    "duration": 6,
    "start_time": "2023-02-24T15:47:44.169Z"
   },
   {
    "duration": 23,
    "start_time": "2023-02-24T15:47:44.176Z"
   },
   {
    "duration": 11,
    "start_time": "2023-02-24T15:47:44.201Z"
   },
   {
    "duration": 31,
    "start_time": "2023-02-24T15:47:44.214Z"
   },
   {
    "duration": 32,
    "start_time": "2023-02-24T15:47:44.247Z"
   },
   {
    "duration": 16,
    "start_time": "2023-02-24T15:47:44.280Z"
   }
  ],
  "kernelspec": {
   "display_name": "Python 3 (ipykernel)",
   "language": "python",
   "name": "python3"
  },
  "language_info": {
   "codemirror_mode": {
    "name": "ipython",
    "version": 3
   },
   "file_extension": ".py",
   "mimetype": "text/x-python",
   "name": "python",
   "nbconvert_exporter": "python",
   "pygments_lexer": "ipython3",
   "version": "3.9.5"
  },
  "toc": {
   "base_numbering": 1,
   "nav_menu": {},
   "number_sections": true,
   "sideBar": true,
   "skip_h1_title": true,
   "title_cell": "Table of Contents",
   "title_sidebar": "Contents",
   "toc_cell": false,
   "toc_position": {},
   "toc_section_display": true,
   "toc_window_display": false
  }
 },
 "nbformat": 4,
 "nbformat_minor": 2
}
